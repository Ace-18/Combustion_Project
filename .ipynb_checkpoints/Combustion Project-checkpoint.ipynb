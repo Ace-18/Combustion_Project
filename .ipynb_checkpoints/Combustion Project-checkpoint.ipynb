{
 "cells": [
  {
   "cell_type": "markdown",
   "id": "5acb0e86",
   "metadata": {},
   "source": [
    "<h3>\n",
    "ΦC<sub>4</sub>H<sub>10</sub> + (6.5)(O<sub>2</sub> + 3.76 N<sub>2</sub>\n",
    ") → a CO<sub>2</sub>+ b CO + d H<sub>2</sub>O + e H<sub>2</sub>+ f O<sub>2</sub>+g N<sub>2</sub>\n",
    "</h3>\n",
    "<hr>\n",
    "P = 1 atm<br>\n",
    "T = 298.15 K<br>\n",
    "Φ=0.9"
   ]
  },
  {
   "cell_type": "markdown",
   "id": "9cfc956f",
   "metadata": {},
   "source": [
    "<h4>Equations:</h4>\n",
    "Carbon Balance:\n",
    "a+b=3.6<br>\n",
    "b=3.6-a\n",
    "\n",
    "Hydrogen Balance:\n",
    "2*(d+e)=9<br>\n",
    "d=4.5-e\n",
    "\n",
    "Oxygen Balance: \n",
    "2(a+f)+b+d=13<br>\n",
    "2(a+f)+(3.6-a)+(4.5-e)=13<br>\n",
    "a+2*f-e=4.9<br>\n",
    "f=2.45- <sup>a</sup>&frasl;<sub>2</sub> + <sup>e</sup>&frasl;<sub>2</sub>\n",
    "\n",
    "Nitrogen Balance:\n",
    "g=24.44"
   ]
  },
  {
   "cell_type": "markdown",
   "id": "4072c9d2",
   "metadata": {},
   "source": [
    "<h3>\n",
    "0.9C<sub>4</sub>H<sub>10</sub> + (6.5)(O<sub>2</sub> + 3.76 N<sub>2</sub>\n",
    ") → a CO<sub>2</sub>+ (3.6-a) CO + (4.5-e) H<sub>2</sub>O + e H<sub>2</sub>+ (2.45- <sup>a</sup>&frasl;<sub>2</sub> + <sup>e</sup>&frasl;<sub>2</sub>) O<sub>2</sub>+24.44 N<sub>2</sub>\n",
    "</h3>"
   ]
  },
  {
   "cell_type": "markdown",
   "id": "28f227f3",
   "metadata": {
    "ExecuteTime": {
     "end_time": "2022-03-10T21:44:38.385711Z",
     "start_time": "2022-03-10T21:44:38.365723Z"
    }
   },
   "source": [
    "total number of moles N<sub>T</sub><br>\n",
    "= a+(3.6-a)+(4.5-e)+e+(2.45- <sup>a</sup>&frasl;<sub>2</sub> + <sup>e</sup>&frasl;<sub>2</sub>)+24.44<br>\n",
    "\n",
    "=34.99- <sup>a</sup>&frasl;<sub>2</sub> + <sup>e</sup>&frasl;<sub>2</sub>\n"
   ]
  },
  {
   "cell_type": "markdown",
   "id": "1f6fe6b9",
   "metadata": {},
   "source": [
    "Equations:\n",
    "\n",
    "H<sub>2</sub>O ⇌ H<sub>2</sub> + <sup>1</sup>&frasl;<sub>2</sub> O<sub>2</sub> .............1\n",
    "\n",
    "CO<sub>2</sub> ⇌ CO + <sup>1</sup>&frasl;<sub>2</sub> O<sub>2</sub>  ............2"
   ]
  },
  {
   "cell_type": "code",
   "execution_count": 65,
   "id": "e55bd89f",
   "metadata": {
    "ExecuteTime": {
     "end_time": "2022-05-24T23:34:44.730754Z",
     "start_time": "2022-05-24T23:34:44.717762Z"
    }
   },
   "outputs": [],
   "source": [
    "from my_package import *"
   ]
  },
  {
   "cell_type": "code",
   "execution_count": 66,
   "id": "64b3ac75",
   "metadata": {
    "ExecuteTime": {
     "end_time": "2022-05-24T23:34:44.941110Z",
     "start_time": "2022-05-24T23:34:44.927209Z"
    }
   },
   "outputs": [],
   "source": [
    "a,b,d,e,f,g=symbols('a b d:g',real=True) #assigning variables to the product's coefficients\n",
    "\n",
    "#Defining carbon, hydrogen, and Φ values  \n",
    "x=4 \n",
    "y=10\n",
    "phi=0.9"
   ]
  },
  {
   "cell_type": "markdown",
   "id": "834282ea",
   "metadata": {},
   "source": [
    "<h4>Mass Balance:</h4>"
   ]
  },
  {
   "cell_type": "code",
   "execution_count": 67,
   "id": "c19a670a",
   "metadata": {
    "ExecuteTime": {
     "end_time": "2022-05-24T23:34:45.781629Z",
     "start_time": "2022-05-24T23:34:45.534192Z"
    }
   },
   "outputs": [],
   "source": [
    "#Mass balancing equations\n",
    "\n",
    "#All variables are obtained in terms of either 'a' or 'e'  \n",
    "\n",
    "#Carbon balance:\n",
    "c_eqn=Eq(a+b,phi*x)\n",
    "b=(solve(c_eqn,b)[0])\n",
    "\n",
    "#Hydrogen balance:\n",
    "h_eqn=Eq(2*d+2*e,phi*y)\n",
    "d=(solve(h_eqn,d)[0])\n",
    "\n",
    "#Oxygen balance:\n",
    "o_eqn=Eq(2*a+b+d+2*f,(x+y/4)*2)\n",
    "f=(solve(o_eqn,f)[0])\n",
    "\n",
    "#Nitrogen balance:\n",
    "n_eqn=Eq(2*g,(x+y/4)*2*3.76)\n",
    "g=(solve(n_eqn,g)[0])\n",
    "\n",
    "N_total=a+b+d+e+f+g"
   ]
  },
  {
   "cell_type": "markdown",
   "id": "af1b89cc",
   "metadata": {
    "ExecuteTime": {
     "end_time": "2022-04-23T16:03:19.079554Z",
     "start_time": "2022-04-23T16:03:19.047551Z"
    }
   },
   "source": [
    "<hr>\n",
    "H<sub>2</sub>O ⇌ H<sub>2</sub> + <sup>1</sup>&frasl;<sub>2</sub> O<sub>2</sub> .............1"
   ]
  },
  {
   "cell_type": "code",
   "execution_count": 68,
   "id": "70c57f6c",
   "metadata": {
    "ExecuteTime": {
     "end_time": "2022-05-24T23:34:46.183155Z",
     "start_time": "2022-05-24T23:34:46.121427Z"
    }
   },
   "outputs": [
    {
     "data": {
      "text/latex": [
       "$\\displaystyle \\frac{1.56524758424985 e \\left(- 0.204081632653061 a + 0.204081632653061 e + 1\\right)^{0.5} \\left(\\frac{1}{- 0.5 a + 0.5 e + 34.99}\\right)^{0.5}}{4.5 - e}$"
      ],
      "text/plain": [
       "1.56524758424985*e*(-0.204081632653061*a + 0.204081632653061*e + 1)**0.5*(1/(-0.5*a + 0.5*e + 34.99))**0.5/(4.5 - e)"
      ]
     },
     "execution_count": 68,
     "metadata": {},
     "output_type": "execute_result"
    }
   ],
   "source": [
    "kp1=e*f**0.5/(d) * (1/(N_total))**(0.5) \n",
    "kp1"
   ]
  },
  {
   "cell_type": "markdown",
   "id": "552d0803",
   "metadata": {
    "ExecuteTime": {
     "end_time": "2022-04-23T16:03:32.263291Z",
     "start_time": "2022-04-23T16:03:32.247666Z"
    }
   },
   "source": [
    "<br>\n",
    "CO<sub>2</sub> ⇌ CO + <sup>1</sup>&frasl;<sub>2</sub> O<sub>2</sub>  ............2"
   ]
  },
  {
   "cell_type": "code",
   "execution_count": 69,
   "id": "53af335e",
   "metadata": {
    "ExecuteTime": {
     "end_time": "2022-05-24T23:34:46.550881Z",
     "start_time": "2022-05-24T23:34:46.509909Z"
    }
   },
   "outputs": [
    {
     "data": {
      "text/latex": [
       "$\\displaystyle \\frac{1.56524758424985 \\cdot \\left(3.6 - a\\right) \\left(- 0.204081632653061 a + 0.204081632653061 e + 1\\right)^{0.5} \\left(\\frac{1}{- 0.5 a + 0.5 e + 34.99}\\right)^{0.5}}{a}$"
      ],
      "text/plain": [
       "1.56524758424985*(3.6 - a)*(-0.204081632653061*a + 0.204081632653061*e + 1)**0.5*(1/(-0.5*a + 0.5*e + 34.99))**0.5/a"
      ]
     },
     "execution_count": 69,
     "metadata": {},
     "output_type": "execute_result"
    }
   ],
   "source": [
    "kp2=b*f**0.5/(a)*(1/N_total)**(1+0.5-1)\n",
    "kp2"
   ]
  },
  {
   "cell_type": "markdown",
   "id": "5aab206e",
   "metadata": {},
   "source": [
    "<hr>"
   ]
  },
  {
   "cell_type": "code",
   "execution_count": 70,
   "id": "40c314b2",
   "metadata": {
    "ExecuteTime": {
     "end_time": "2022-05-24T23:34:46.853687Z",
     "start_time": "2022-05-24T23:34:46.822342Z"
    }
   },
   "outputs": [],
   "source": [
    "#Variables to hold values for each iteration\n",
    "\n",
    "temps={} #holds each temperature with its corresponding Q\n",
    "\n",
    "composition_values={a:['a'] , b:['b'] , d:['d'] , e:['e'] , f:['f'] , g:['g'] } #holds composition values "
   ]
  },
  {
   "cell_type": "code",
   "execution_count": 71,
   "id": "743bdd79",
   "metadata": {
    "ExecuteTime": {
     "end_time": "2022-05-24T23:34:47.056005Z",
     "start_time": "2022-05-24T23:34:47.018066Z"
    }
   },
   "outputs": [],
   "source": [
    "#Assume starting Temperature=1800 K\n",
    "t=1800\n",
    "\n",
    "\n",
    "#Getting properties and equations at t\n",
    "\n",
    "if t in data.index:   #making sure t doesn't need interpolation\n",
    "    props=data.loc[t]\n",
    "\n",
    "else:\n",
    "    props=interpolate(t,data)\n",
    "    \n",
    "    \n",
    "eq1=Eq(kp1,exp(props['Kp1']))\n",
    "eq2=Eq(kp2,exp(props['Kp2']))"
   ]
  },
  {
   "cell_type": "code",
   "execution_count": 72,
   "id": "caa38a3f",
   "metadata": {
    "ExecuteTime": {
     "end_time": "2022-05-24T23:34:57.051450Z",
     "start_time": "2022-05-24T23:34:47.222180Z"
    }
   },
   "outputs": [],
   "source": [
    "e2=solve(eq2,e)[0] #solving for e in equation 2\n",
    "\n",
    "eqn=eq1.subs({e:e2}) #substituting in equation 1\n",
    "\n",
    "a1=solve(eqn)\n",
    "for i in a1:\n",
    "    if i >0 and i <3.6: #since equation has multiple roots, conditions for a are added to decide value to be taken\n",
    "        a1=i\n",
    "        \n",
    "e1=e2.subs(a,a1)  #obtaining e by substituting value of a "
   ]
  },
  {
   "cell_type": "code",
   "execution_count": 73,
   "id": "e151e402",
   "metadata": {
    "ExecuteTime": {
     "end_time": "2022-05-24T23:34:57.063661Z",
     "start_time": "2022-05-24T23:34:57.051450Z"
    }
   },
   "outputs": [],
   "source": [
    "#obtaining the rest of the values:\n",
    "\n",
    "for i in composition_values.keys(): \n",
    "    composition_values[i].append(i.subs({a:a1,e:e1}))"
   ]
  },
  {
   "cell_type": "markdown",
   "id": "68637253",
   "metadata": {},
   "source": [
    "<hr>\n",
    "<h3>Q = H<sub>P</sub> - H<sub>R</sub> = 0"
   ]
  },
  {
   "cell_type": "code",
   "execution_count": 74,
   "id": "e7dd900b",
   "metadata": {
    "ExecuteTime": {
     "end_time": "2022-05-24T23:34:57.079294Z",
     "start_time": "2022-05-24T23:34:57.072299Z"
    }
   },
   "outputs": [],
   "source": [
    "#defining hf of the fuel \n",
    "h_f_C4H10=-126150"
   ]
  },
  {
   "cell_type": "markdown",
   "id": "f12991be",
   "metadata": {},
   "source": [
    "<b>Calculating H<sub>R</sub>:</b>"
   ]
  },
  {
   "cell_type": "code",
   "execution_count": 75,
   "id": "d6d9e10a",
   "metadata": {
    "ExecuteTime": {
     "end_time": "2022-05-24T23:34:57.107835Z",
     "start_time": "2022-05-24T23:34:57.083291Z"
    }
   },
   "outputs": [],
   "source": [
    "H_R=phi*(h_f_C4H10) + 6.5*(data.loc['h_f']['O2']+data.loc[298]['O2']) + g*(data.loc['h_f']['N2']+data.loc[298]['N2'])"
   ]
  },
  {
   "cell_type": "markdown",
   "id": "f4d90542",
   "metadata": {},
   "source": [
    "<b>Calculating H<sub>P</sub>:</b>"
   ]
  },
  {
   "cell_type": "code",
   "execution_count": 76,
   "id": "d90d66db",
   "metadata": {
    "ExecuteTime": {
     "end_time": "2022-05-24T23:34:57.139639Z",
     "start_time": "2022-05-24T23:34:57.109778Z"
    }
   },
   "outputs": [],
   "source": [
    "H_P=a*(data.loc['h_f']['CO2']+props['CO2']) + b*(data.loc['h_f']['CO']+props['CO']) +d*(data.loc['h_f']['H2O']+props['H2O']) +e*(data.loc['h_f']['H2']+props['H2']) + f*(data.loc['h_f']['O2']+props['O2']) + g*(data.loc['h_f']['N2']+props['N2'])"
   ]
  },
  {
   "cell_type": "code",
   "execution_count": 77,
   "id": "d9ec8ac9",
   "metadata": {
    "ExecuteTime": {
     "end_time": "2022-05-24T23:34:57.155453Z",
     "start_time": "2022-05-24T23:34:57.141187Z"
    }
   },
   "outputs": [],
   "source": [
    "Q=H_P.subs({a:a1,e:e1}) - H_R \n",
    "\n",
    "temps[t]=Q #adding Q to its corresponding temperature"
   ]
  },
  {
   "cell_type": "code",
   "execution_count": 78,
   "id": "2279fa1c",
   "metadata": {
    "ExecuteTime": {
     "end_time": "2022-05-24T23:34:57.174324Z",
     "start_time": "2022-05-24T23:34:57.159304Z"
    }
   },
   "outputs": [],
   "source": [
    "#depending on either Q is positive or negative to increase or decrease the temperature\n",
    "q_pos=None\n",
    "q_neg=None\n",
    "\n",
    "if Q>0: #decrease Temperature\n",
    "    t-=100\n",
    "    q_pos=Q\n",
    "else: #higher Temperature\n",
    "    t+=50\n",
    "    q_neg=Q"
   ]
  },
  {
   "cell_type": "markdown",
   "id": "fe2ea1e1",
   "metadata": {},
   "source": [
    "<h3>Using the newly obtained temperature, repeat the previous steps until Q is almost 0</h3>"
   ]
  },
  {
   "cell_type": "code",
   "execution_count": 79,
   "id": "6fae7fea",
   "metadata": {
    "ExecuteTime": {
     "end_time": "2022-05-24T23:36:42.536186Z",
     "start_time": "2022-05-24T23:34:57.174324Z"
    }
   },
   "outputs": [],
   "source": [
    "while abs(Q)>0.1 :          \n",
    "    \n",
    "    #Getting properties at t\n",
    "    \n",
    "    if t in data.index:                #making sure t doesn't need interpolation\n",
    "        props=data.loc[t]\n",
    "\n",
    "    else:\n",
    "        props=interpolate(t,data)\n",
    "\n",
    "    \n",
    "    \n",
    "    eq1=Eq(kp1,exp(props['Kp1']))\n",
    "    eq2=Eq(kp2,exp(props['Kp2']))    \n",
    "\n",
    "    e2=solve(eq2,e)[0]\n",
    "    eqn=eq1.subs({e:e2})\n",
    "    a1=solve(eqn)\n",
    "    \n",
    "    for i in a1:\n",
    "        if i >0 and i <3.6:\n",
    "            a1=i\n",
    "    e1=e2.subs(a,a1)  \n",
    "    \n",
    "    \n",
    "    for i in composition_values.keys():\n",
    "        composition_values[i].append(i.subs({a:a1,e:e1}))\n",
    "    \n",
    "    \n",
    "    #Calculating new Q\n",
    "    \n",
    "    H_P=a*(data.loc['h_f']['CO2']+props['CO2']) + b*(data.loc['h_f']['CO']+props['CO']) +d*(data.loc['h_f']['H2O']+props['H2O']) +e*(data.loc['h_f']['H2']+props['H2']) + f*(data.loc['h_f']['O2']+props['O2']) + g*(data.loc['h_f']['N2']+props['N2'])\n",
    "    \n",
    "    Q=H_P.subs({a:a1,e:e1}) - H_R \n",
    "    \n",
    "    temps[t]=Q\n",
    "    \n",
    "    \n",
    "    while not q_pos:\n",
    "        if Q>0:\n",
    "            q_pos=Q    #since q_neg is already obtained at the first iteration then once q_pos is obtained we could interpolate\n",
    "            \n",
    "        else:\n",
    "            q_neg=Q\n",
    "            t+=50\n",
    "            break\n",
    "      \n",
    "    \n",
    "    #in case both positive and negative values of Q are obtained then the a.f.t lies between those temperatures         \n",
    "    if q_neg and q_pos: \n",
    "        if Q>0 and Q<q_pos: \n",
    "            q_pos=Q\n",
    "        elif Q<0 and Q>q_neg: \n",
    "            q_neg=Q\n",
    "        t=(get_key(q_neg,temps))+(-q_neg)*(get_key(q_pos,temps)-get_key(q_neg,temps))/(q_pos-q_neg)\n",
    "\n",
    "    "
   ]
  },
  {
   "cell_type": "markdown",
   "id": "9f36cf36",
   "metadata": {},
   "source": [
    "<h3>Formating the results</h3>"
   ]
  },
  {
   "cell_type": "code",
   "execution_count": 107,
   "id": "49d27b65",
   "metadata": {
    "ExecuteTime": {
     "end_time": "2022-05-24T23:50:10.202653Z",
     "start_time": "2022-05-24T23:50:10.178315Z"
    }
   },
   "outputs": [],
   "source": [
    "headings=['CO2','CO','H2O','H2','O2','N2','Q']\n",
    "\n",
    "content=[i[1:] for i in composition_values.values()]\n",
    "content.append(list(temps.values()))\n",
    "content=np.array(content,dtype='float64').T\n",
    "\n",
    "\n",
    "ind=np.round(np.array(list(temps.keys()),dtype='float64'),4)"
   ]
  },
  {
   "cell_type": "code",
   "execution_count": 130,
   "id": "fb363460",
   "metadata": {
    "ExecuteTime": {
     "end_time": "2022-05-24T23:57:18.592953Z",
     "start_time": "2022-05-24T23:57:18.584952Z"
    }
   },
   "outputs": [],
   "source": [
    "df=pd.DataFrame(content,columns=headings,index=ind)"
   ]
  },
  {
   "cell_type": "code",
   "execution_count": 131,
   "id": "6ac1e075",
   "metadata": {
    "ExecuteTime": {
     "end_time": "2022-05-24T23:57:20.102729Z",
     "start_time": "2022-05-24T23:57:20.062730Z"
    }
   },
   "outputs": [
    {
     "data": {
      "text/html": [
       "<div>\n",
       "<style scoped>\n",
       "    .dataframe tbody tr th:only-of-type {\n",
       "        vertical-align: middle;\n",
       "    }\n",
       "\n",
       "    .dataframe tbody tr th {\n",
       "        vertical-align: top;\n",
       "    }\n",
       "\n",
       "    .dataframe thead th {\n",
       "        text-align: right;\n",
       "    }\n",
       "</style>\n",
       "<table border=\"1\" class=\"dataframe\">\n",
       "  <thead>\n",
       "    <tr style=\"text-align: right;\">\n",
       "      <th></th>\n",
       "      <th>CO2</th>\n",
       "      <th>CO</th>\n",
       "      <th>H2O</th>\n",
       "      <th>H2</th>\n",
       "      <th>O2</th>\n",
       "      <th>N2</th>\n",
       "      <th>Q</th>\n",
       "    </tr>\n",
       "  </thead>\n",
       "  <tbody>\n",
       "    <tr>\n",
       "      <th>1800.0000</th>\n",
       "      <td>3.594771</td>\n",
       "      <td>0.005229</td>\n",
       "      <td>4.498268</td>\n",
       "      <td>0.001732</td>\n",
       "      <td>0.653480</td>\n",
       "      <td>24.44</td>\n",
       "      <td>-590983.940201</td>\n",
       "    </tr>\n",
       "    <tr>\n",
       "      <th>1850.0000</th>\n",
       "      <td>3.591691</td>\n",
       "      <td>0.008309</td>\n",
       "      <td>4.497368</td>\n",
       "      <td>0.002632</td>\n",
       "      <td>0.655470</td>\n",
       "      <td>24.44</td>\n",
       "      <td>-522791.499107</td>\n",
       "    </tr>\n",
       "    <tr>\n",
       "      <th>1900.0000</th>\n",
       "      <td>3.586815</td>\n",
       "      <td>0.013185</td>\n",
       "      <td>4.496003</td>\n",
       "      <td>0.003997</td>\n",
       "      <td>0.658591</td>\n",
       "      <td>24.44</td>\n",
       "      <td>-453983.548528</td>\n",
       "    </tr>\n",
       "    <tr>\n",
       "      <th>1950.0000</th>\n",
       "      <td>3.579119</td>\n",
       "      <td>0.020881</td>\n",
       "      <td>4.493940</td>\n",
       "      <td>0.006060</td>\n",
       "      <td>0.663470</td>\n",
       "      <td>24.44</td>\n",
       "      <td>-384218.051009</td>\n",
       "    </tr>\n",
       "    <tr>\n",
       "      <th>2000.0000</th>\n",
       "      <td>3.567037</td>\n",
       "      <td>0.032963</td>\n",
       "      <td>4.490832</td>\n",
       "      <td>0.009168</td>\n",
       "      <td>0.671065</td>\n",
       "      <td>24.44</td>\n",
       "      <td>-312974.333432</td>\n",
       "    </tr>\n",
       "    <tr>\n",
       "      <th>2050.0000</th>\n",
       "      <td>3.552375</td>\n",
       "      <td>0.047625</td>\n",
       "      <td>4.487161</td>\n",
       "      <td>0.012839</td>\n",
       "      <td>0.680232</td>\n",
       "      <td>24.44</td>\n",
       "      <td>-248320.018499</td>\n",
       "    </tr>\n",
       "    <tr>\n",
       "      <th>2100.0000</th>\n",
       "      <td>3.531492</td>\n",
       "      <td>0.068508</td>\n",
       "      <td>4.482073</td>\n",
       "      <td>0.017927</td>\n",
       "      <td>0.693218</td>\n",
       "      <td>24.44</td>\n",
       "      <td>-181585.228956</td>\n",
       "    </tr>\n",
       "    <tr>\n",
       "      <th>2150.0000</th>\n",
       "      <td>3.502034</td>\n",
       "      <td>0.097966</td>\n",
       "      <td>4.475064</td>\n",
       "      <td>0.024936</td>\n",
       "      <td>0.711451</td>\n",
       "      <td>24.44</td>\n",
       "      <td>-107041.924545</td>\n",
       "    </tr>\n",
       "    <tr>\n",
       "      <th>2200.0000</th>\n",
       "      <td>3.460998</td>\n",
       "      <td>0.139002</td>\n",
       "      <td>4.465488</td>\n",
       "      <td>0.034512</td>\n",
       "      <td>0.736757</td>\n",
       "      <td>24.44</td>\n",
       "      <td>-28653.934182</td>\n",
       "    </tr>\n",
       "    <tr>\n",
       "      <th>2250.0000</th>\n",
       "      <td>3.415440</td>\n",
       "      <td>0.184560</td>\n",
       "      <td>4.454943</td>\n",
       "      <td>0.045057</td>\n",
       "      <td>0.764809</td>\n",
       "      <td>24.44</td>\n",
       "      <td>51216.248162</td>\n",
       "    </tr>\n",
       "    <tr>\n",
       "      <th>2217.9378</th>\n",
       "      <td>3.445985</td>\n",
       "      <td>0.154015</td>\n",
       "      <td>4.462004</td>\n",
       "      <td>0.037996</td>\n",
       "      <td>0.746006</td>\n",
       "      <td>24.44</td>\n",
       "      <td>-442.166168</td>\n",
       "    </tr>\n",
       "    <tr>\n",
       "      <th>2218.2123</th>\n",
       "      <td>3.445744</td>\n",
       "      <td>0.154256</td>\n",
       "      <td>4.461948</td>\n",
       "      <td>0.038052</td>\n",
       "      <td>0.746154</td>\n",
       "      <td>24.44</td>\n",
       "      <td>-6.876600</td>\n",
       "    </tr>\n",
       "    <tr>\n",
       "      <th>2218.2165</th>\n",
       "      <td>3.445740</td>\n",
       "      <td>0.154260</td>\n",
       "      <td>4.461947</td>\n",
       "      <td>0.038053</td>\n",
       "      <td>0.746156</td>\n",
       "      <td>24.44</td>\n",
       "      <td>-0.106958</td>\n",
       "    </tr>\n",
       "    <tr>\n",
       "      <th>2218.2166</th>\n",
       "      <td>3.445740</td>\n",
       "      <td>0.154260</td>\n",
       "      <td>4.461947</td>\n",
       "      <td>0.038053</td>\n",
       "      <td>0.746156</td>\n",
       "      <td>24.44</td>\n",
       "      <td>-0.001662</td>\n",
       "    </tr>\n",
       "  </tbody>\n",
       "</table>\n",
       "</div>"
      ],
      "text/plain": [
       "                CO2        CO       H2O        H2        O2     N2  \\\n",
       "1800.0000  3.594771  0.005229  4.498268  0.001732  0.653480  24.44   \n",
       "1850.0000  3.591691  0.008309  4.497368  0.002632  0.655470  24.44   \n",
       "1900.0000  3.586815  0.013185  4.496003  0.003997  0.658591  24.44   \n",
       "1950.0000  3.579119  0.020881  4.493940  0.006060  0.663470  24.44   \n",
       "2000.0000  3.567037  0.032963  4.490832  0.009168  0.671065  24.44   \n",
       "2050.0000  3.552375  0.047625  4.487161  0.012839  0.680232  24.44   \n",
       "2100.0000  3.531492  0.068508  4.482073  0.017927  0.693218  24.44   \n",
       "2150.0000  3.502034  0.097966  4.475064  0.024936  0.711451  24.44   \n",
       "2200.0000  3.460998  0.139002  4.465488  0.034512  0.736757  24.44   \n",
       "2250.0000  3.415440  0.184560  4.454943  0.045057  0.764809  24.44   \n",
       "2217.9378  3.445985  0.154015  4.462004  0.037996  0.746006  24.44   \n",
       "2218.2123  3.445744  0.154256  4.461948  0.038052  0.746154  24.44   \n",
       "2218.2165  3.445740  0.154260  4.461947  0.038053  0.746156  24.44   \n",
       "2218.2166  3.445740  0.154260  4.461947  0.038053  0.746156  24.44   \n",
       "\n",
       "                       Q  \n",
       "1800.0000 -590983.940201  \n",
       "1850.0000 -522791.499107  \n",
       "1900.0000 -453983.548528  \n",
       "1950.0000 -384218.051009  \n",
       "2000.0000 -312974.333432  \n",
       "2050.0000 -248320.018499  \n",
       "2100.0000 -181585.228956  \n",
       "2150.0000 -107041.924545  \n",
       "2200.0000  -28653.934182  \n",
       "2250.0000   51216.248162  \n",
       "2217.9378    -442.166168  \n",
       "2218.2123      -6.876600  \n",
       "2218.2165      -0.106958  \n",
       "2218.2166      -0.001662  "
      ]
     },
     "execution_count": 131,
     "metadata": {},
     "output_type": "execute_result"
    }
   ],
   "source": [
    "df"
   ]
  },
  {
   "cell_type": "code",
   "execution_count": 145,
   "id": "9e271cf4",
   "metadata": {
    "ExecuteTime": {
     "end_time": "2022-05-25T00:02:33.100577Z",
     "start_time": "2022-05-25T00:02:33.092578Z"
    }
   },
   "outputs": [
    {
     "name": "stdout",
     "output_type": "stream",
     "text": [
      "adiabatic flame temperature= 2218.2166\n",
      "CO2= 3.4457\n",
      "CO= 0.1543\n",
      "H2O= 4.4619\n",
      "H2= 0.0381\n",
      "O2= 0.7462\n",
      "N2= 24.4400\n",
      "Q= -0.0017\n"
     ]
    }
   ],
   "source": [
    "print(f'adiabatic flame temperature= {ind[-1]}')\n",
    "for i in df.columns:\n",
    "    print(f'{i}= {df[i].iloc[-1]:.4f}')\n",
    "    "
   ]
  },
  {
   "cell_type": "markdown",
   "id": "e6228f61",
   "metadata": {
    "ExecuteTime": {
     "end_time": "2022-05-25T00:21:17.958624Z",
     "start_time": "2022-05-25T00:21:17.934621Z"
    }
   },
   "source": [
    "<h3>Plotting Graphs</h3>"
   ]
  },
  {
   "cell_type": "code",
   "execution_count": 234,
   "id": "1ae51426",
   "metadata": {
    "ExecuteTime": {
     "end_time": "2022-05-25T00:57:49.196299Z",
     "start_time": "2022-05-25T00:57:48.965581Z"
    }
   },
   "outputs": [
    {
     "data": {
      "image/png": "[encoded data removed]",
      "text/plain": [
       "<Figure size 432x288 with 1 Axes>"
      ]
     },
     "metadata": {
      "needs_background": "light"
     },
     "output_type": "display_data"
    }
   ],
   "source": [
    "plt.plot(df['Q'],'o-')\n",
    "\n",
    "x1=ind.tolist()\n",
    "y1=[0 for i in range(len(ind))]\n",
    "plt.plot(x1,y1,label='Q=0',linestyle='--')\n",
    "\n",
    "x2=[ind[-1] for i in range(len(ind))]\n",
    "y2=df['Q']\n",
    "plt.plot(x2,y2,'--')\n",
    "\n",
    "x3=ind[-1]\n",
    "y3=df['Q'].iloc[-1]\n",
    "plt.plot(x3,y3,'o')\n",
    "\n",
    "plt.title(\"Temperature vs Q\", fontdict={'fontname': 'Comic Sans MS', 'fontsize': 18})\n",
    "plt.xlabel('Temperature')\n",
    "plt.ylabel('Q')\n",
    "plt.legend()\n",
    "\n",
    "plt.savefig(\"random.jpg\")"
   ]
  },
  {
   "cell_type": "code",
   "execution_count": 279,
   "id": "1c579422",
   "metadata": {
    "ExecuteTime": {
     "end_time": "2022-05-25T02:02:56.738130Z",
     "start_time": "2022-05-25T02:02:56.308313Z"
    }
   },
   "outputs": [
    {
     "data": {
      "image/png": "[encoded data removed]",
      "text/plain": [
       "<Figure size 432x288 with 1 Axes>"
      ]
     },
     "metadata": {
      "needs_background": "light"
     },
     "output_type": "display_data"
    }
   ],
   "source": [
    "#plotting all products (except N2) on the same graph\n",
    "for i in df.columns[:-2]:\n",
    "    \n",
    "    plt.plot(df[i],'o-',label=i)\n",
    "    \n",
    "    x3=ind[-1]\n",
    "    y3=df[i].iloc[-1]\n",
    "    plt.plot(x3,y3,'o')\n",
    "    \n",
    "    #plt.xticks([ind[-1]])\n",
    "    #plt.yticks([df[i].iloc[-1]])\n",
    "    \n",
    "    plt.title(f'Temperature vs Products',fontdict={'fontsize': 18})\n",
    "    plt.xlabel('Temperature',fontdict={'fontsize': 12})\n",
    "\n",
    "    plt.legend(bbox_to_anchor= (0,1))\n",
    "    \n",
    "#plt.savefig(\"Products.jpg\",dpi = 350)    #to save the graphs as images\n",
    "\n",
    "    \n",
    "    "
   ]
  },
  {
   "cell_type": "code",
   "execution_count": 261,
   "id": "8130ce44",
   "metadata": {
    "ExecuteTime": {
     "end_time": "2022-05-25T01:29:03.408384Z",
     "start_time": "2022-05-25T01:29:00.899882Z"
    }
   },
   "outputs": [
    {
     "data": {
      "image/png": "[encoded data removed]",
      "text/plain": [
       "<Figure size 432x288 with 1 Axes>"
      ]
     },
     "metadata": {
      "needs_background": "light"
     },
     "output_type": "display_data"
    },
    {
     "data": {
      "image/png": "[encoded data removed]",
      "text/plain": [
       "<Figure size 432x288 with 1 Axes>"
      ]
     },
     "metadata": {
      "needs_background": "light"
     },
     "output_type": "display_data"
    },
    {
     "data": {
      "image/png": "[encoded data removed]",
      "text/plain": [
       "<Figure size 432x288 with 1 Axes>"
      ]
     },
     "metadata": {
      "needs_background": "light"
     },
     "output_type": "display_data"
    },
    {
     "data": {
      "image/png": "[encoded data removed]",
      "text/plain": [
       "<Figure size 432x288 with 1 Axes>"
      ]
     },
     "metadata": {
      "needs_background": "light"
     },
     "output_type": "display_data"
    },
    {
     "data": {
      "image/png": "[encoded data removed]",
      "text/plain": [
       "<Figure size 432x288 with 1 Axes>"
      ]
     },
     "metadata": {
      "needs_background": "light"
     },
     "output_type": "display_data"
    },
    {
     "data": {
      "image/png": "[encoded data removed]",
      "text/plain": [
       "<Figure size 432x288 with 1 Axes>"
      ]
     },
     "metadata": {
      "needs_background": "light"
     },
     "output_type": "display_data"
    }
   ],
   "source": [
    "#plotting each products (except N2) on a separate graph\n",
    "for i in df.columns:\n",
    "    if i=='N2':\n",
    "        continue\n",
    "    \n",
    "    plt.plot(df[i],'o-')\n",
    "    \n",
    "    x1=ind.tolist()\n",
    "    y1=[df[i].iloc[-1] for j in range(len(ind))]\n",
    "    plt.plot(x1,y1,label=f'{i}={df[i].iloc[-1]:.4f}',linestyle='--')\n",
    "\n",
    "    x2=[ind[-1] for i in range(len(ind))]\n",
    "    y2=df[i]\n",
    "    plt.plot(x2,y2,'--',label=f'T={ind[-1]}')\n",
    "\n",
    "    x3=ind[-1]\n",
    "    y3=df[i].iloc[-1]\n",
    "    plt.plot(x3,y3,'o')\n",
    "    \n",
    "    #plt.xticks([ind[-1]])\n",
    "    #plt.yticks([df[i].iloc[-1]])\n",
    "    \n",
    "    plt.title(f'Temperature vs {i}',fontdict={'fontsize': 18})\n",
    "    plt.xlabel('Temperature',fontdict={'fontsize': 12})\n",
    "    plt.ylabel(i,fontdict={'fontsize': 12})\n",
    "    \n",
    "    plt.legend()\n",
    "    \n",
    "    #plt.savefig(f\"{i}.jpg\",dpi = 200)    #to save the graphs as images\n",
    "    plt.show()\n",
    "\n",
    "    \n",
    "    "
   ]
  }
 ],
 "metadata": {
  "kernelspec": {
   "display_name": "Python 3 (ipykernel)",
   "language": "python",
   "name": "python3"
  },
  "language_info": {
   "codemirror_mode": {
    "name": "ipython",
    "version": 3
   },
   "file_extension": ".py",
   "mimetype": "text/x-python",
   "name": "python",
   "nbconvert_exporter": "python",
   "pygments_lexer": "ipython3",
   "version": "3.9.6"
  }
 },
 "nbformat": 4,
 "nbformat_minor": 5
}
