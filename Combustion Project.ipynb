{
 "cells": [
  {
   "cell_type": "markdown",
   "id": "5acb0e86",
   "metadata": {},
   "source": [
    "<h3>\n",
    "ΦC<sub>4</sub>H<sub>10</sub> + (6.5)(O<sub>2</sub> + 3.76 N<sub>2</sub>\n",
    ") → a CO<sub>2</sub>+ b CO + d H<sub>2</sub>O + e H<sub>2</sub>+ f O<sub>2</sub>+g N<sub>2</sub>\n",
    "</h3>\n",
    "<hr>\n",
    "P = 1 atm<br>\n",
    "T = 298.15 K<br>\n",
    "Φ=0.9"
   ]
  },
  {
   "cell_type": "markdown",
   "id": "9cfc956f",
   "metadata": {},
   "source": [
    "<h4>Equations:</h4>\n",
    "Carbon Balance:\n",
    "a+b=3.6<br>\n",
    "b=3.6-a\n",
    "\n",
    "Hydrogen Balance:\n",
    "2*(d+e)=9<br>\n",
    "d=4.5-e\n",
    "\n",
    "Oxygen Balance: \n",
    "2(a+f)+b+d=13<br>\n",
    "2(a+f)+(3.6-a)+(4.5-e)=13<br>\n",
    "a+2*f-e=4.9<br>\n",
    "f=2.45- <sup>a</sup>&frasl;<sub>2</sub> + <sup>e</sup>&frasl;<sub>2</sub>\n",
    "\n",
    "Nitrogen Balance:\n",
    "g=24.44"
   ]
  },
  {
   "cell_type": "markdown",
   "id": "4072c9d2",
   "metadata": {},
   "source": [
    "<h3>\n",
    "0.9C<sub>4</sub>H<sub>10</sub> + (6.5)(O<sub>2</sub> + 3.76 N<sub>2</sub>\n",
    ") → a CO<sub>2</sub>+ (3.6-a) CO + (4.5-e) H<sub>2</sub>O + e H<sub>2</sub>+ (2.45- <sup>a</sup>&frasl;<sub>2</sub> + <sup>e</sup>&frasl;<sub>2</sub>) O<sub>2</sub>+24.44 N<sub>2</sub>\n",
    "</h3>"
   ]
  },
  {
   "cell_type": "markdown",
   "id": "28f227f3",
   "metadata": {
    "ExecuteTime": {
     "end_time": "2022-03-10T21:44:38.385711Z",
     "start_time": "2022-03-10T21:44:38.365723Z"
    }
   },
   "source": [
    "total number of moles N<sub>T</sub><br>\n",
    "= a+(3.6-a)+(4.5-e)+e+(2.45- <sup>a</sup>&frasl;<sub>2</sub> + <sup>e</sup>&frasl;<sub>2</sub>)+24.44<br>\n",
    "\n",
    "=34.99- <sup>a</sup>&frasl;<sub>2</sub> + <sup>e</sup>&frasl;<sub>2</sub>\n"
   ]
  },
  {
   "cell_type": "markdown",
   "id": "1f6fe6b9",
   "metadata": {},
   "source": [
    "Equations:\n",
    "\n",
    "H<sub>2</sub>O ⇌ H<sub>2</sub> + <sup>1</sup>&frasl;<sub>2</sub> O<sub>2</sub> .............1\n",
    "\n",
    "CO<sub>2</sub> ⇌ CO + <sup>1</sup>&frasl;<sub>2</sub> O<sub>2</sub>  ............2"
   ]
  },
  {
   "cell_type": "code",
   "execution_count": 2,
   "id": "e55bd89f",
   "metadata": {
    "ExecuteTime": {
     "end_time": "2022-05-04T13:26:55.173272Z",
     "start_time": "2022-05-04T13:26:55.142378Z"
    }
   },
   "outputs": [],
   "source": [
    "from my_package import *"
   ]
  },
  {
   "cell_type": "code",
   "execution_count": 4,
   "id": "64b3ac75",
   "metadata": {
    "ExecuteTime": {
     "end_time": "2022-05-04T13:26:58.267169Z",
     "start_time": "2022-05-04T13:26:58.246180Z"
    }
   },
   "outputs": [],
   "source": [
    "a,b,d,e,f,g=symbols('a b d:g',real=True) #assigning variables to the product's coefficients"
   ]
  },
  {
   "cell_type": "code",
   "execution_count": 5,
   "id": "c19a670a",
   "metadata": {
    "ExecuteTime": {
     "end_time": "2022-05-04T13:26:59.217435Z",
     "start_time": "2022-05-04T13:26:58.577539Z"
    }
   },
   "outputs": [],
   "source": [
    "#Elements balancing equations\n",
    "#\n",
    "#All variables are obtained in terms of either 'a' or 'e'  \n",
    "\n",
    "#Carbon balance:\n",
    "c_eqn=Eq(a+b,3.6)\n",
    "b=(solve(c_eqn,b)[0])\n",
    "\n",
    "#Hydrogen balance:\n",
    "h_eqn=Eq(2*d+2*e,9)\n",
    "d=(solve(h_eqn,d)[0])\n",
    "\n",
    "#Oxygen balance:\n",
    "o_eqn=Eq(2*a+b+d+2*f,13)\n",
    "f=(solve(o_eqn,f)[0])\n",
    "\n",
    "#Nitrogen balance:\n",
    "n_eqn=Eq(2*g,6.5*3.76*2)\n",
    "g=(solve(n_eqn,g)[0])\n",
    "\n",
    "N_total=a+b+d+e+f+g"
   ]
  },
  {
   "cell_type": "markdown",
   "id": "af1b89cc",
   "metadata": {
    "ExecuteTime": {
     "end_time": "2022-04-23T16:03:19.079554Z",
     "start_time": "2022-04-23T16:03:19.047551Z"
    }
   },
   "source": [
    "H<sub>2</sub>O ⇌ H<sub>2</sub> + <sup>1</sup>&frasl;<sub>2</sub> O<sub>2</sub> .............1"
   ]
  },
  {
   "cell_type": "code",
   "execution_count": 6,
   "id": "70c57f6c",
   "metadata": {
    "ExecuteTime": {
     "end_time": "2022-05-04T13:26:59.406749Z",
     "start_time": "2022-05-04T13:26:59.374424Z"
    }
   },
   "outputs": [],
   "source": [
    "kp1=e*f**0.5/(d) * (1/(N_total))**(1+0.5-1) "
   ]
  },
  {
   "cell_type": "markdown",
   "id": "552d0803",
   "metadata": {
    "ExecuteTime": {
     "end_time": "2022-04-23T16:03:32.263291Z",
     "start_time": "2022-04-23T16:03:32.247666Z"
    }
   },
   "source": [
    "CO<sub>2</sub> ⇌ CO + <sup>1</sup>&frasl;<sub>2</sub> O<sub>2</sub>  ............2"
   ]
  },
  {
   "cell_type": "code",
   "execution_count": 7,
   "id": "53af335e",
   "metadata": {
    "ExecuteTime": {
     "end_time": "2022-05-04T13:27:00.015912Z",
     "start_time": "2022-05-04T13:26:59.996923Z"
    }
   },
   "outputs": [],
   "source": [
    "kp2=b*(f**0.5)/(a)*(1/N_total)**(1+0.5-1)"
   ]
  },
  {
   "cell_type": "code",
   "execution_count": 8,
   "id": "40c314b2",
   "metadata": {
    "ExecuteTime": {
     "end_time": "2022-05-04T13:27:00.456682Z",
     "start_time": "2022-05-04T13:27:00.441056Z"
    }
   },
   "outputs": [],
   "source": [
    "#Variables to hold values for each iteration \n",
    "temps={} #will hold each temperature with its corresponding Q\n",
    "\n",
    "composition_values={kp1:['kp1'], kp2: ['kp2'] , a:['a'] , b:['b'] , d:['d'] , e:['e'] , f:['f'] , g:['g'] }"
   ]
  },
  {
   "cell_type": "code",
   "execution_count": 10,
   "id": "6a1fc2d0",
   "metadata": {
    "ExecuteTime": {
     "end_time": "2022-05-04T13:27:07.627396Z",
     "start_time": "2022-05-04T13:27:07.568199Z"
    }
   },
   "outputs": [
    {
     "data": {
      "text/html": [
       "<div>\n",
       "<style scoped>\n",
       "    .dataframe tbody tr th:only-of-type {\n",
       "        vertical-align: middle;\n",
       "    }\n",
       "\n",
       "    .dataframe tbody tr th {\n",
       "        vertical-align: top;\n",
       "    }\n",
       "\n",
       "    .dataframe thead th {\n",
       "        text-align: right;\n",
       "    }\n",
       "</style>\n",
       "<table border=\"1\" class=\"dataframe\">\n",
       "  <thead>\n",
       "    <tr style=\"text-align: right;\">\n",
       "      <th></th>\n",
       "      <th>Kp1</th>\n",
       "      <th>Kp2</th>\n",
       "      <th>N2</th>\n",
       "      <th>O2</th>\n",
       "      <th>CO2</th>\n",
       "      <th>H2O</th>\n",
       "      <th>CO</th>\n",
       "      <th>H2</th>\n",
       "    </tr>\n",
       "  </thead>\n",
       "  <tbody>\n",
       "    <tr>\n",
       "      <th>h_f</th>\n",
       "      <td>NaN</td>\n",
       "      <td>NaN</td>\n",
       "      <td>0.0</td>\n",
       "      <td>0.0</td>\n",
       "      <td>-393520.0</td>\n",
       "      <td>-241820.0</td>\n",
       "      <td>-110530.0</td>\n",
       "      <td>0.0</td>\n",
       "    </tr>\n",
       "    <tr>\n",
       "      <th>298</th>\n",
       "      <td>-92.2080</td>\n",
       "      <td>-103.7620</td>\n",
       "      <td>0.0</td>\n",
       "      <td>0.0</td>\n",
       "      <td>0.0</td>\n",
       "      <td>0.0</td>\n",
       "      <td>0.0</td>\n",
       "      <td>0.0</td>\n",
       "    </tr>\n",
       "    <tr>\n",
       "      <th>500</th>\n",
       "      <td>-52.6910</td>\n",
       "      <td>-57.6160</td>\n",
       "      <td>5912.0</td>\n",
       "      <td>6088.0</td>\n",
       "      <td>8314.0</td>\n",
       "      <td>6920.0</td>\n",
       "      <td>5929.0</td>\n",
       "      <td>5883.0</td>\n",
       "    </tr>\n",
       "    <tr>\n",
       "      <th>1000</th>\n",
       "      <td>-23.1630</td>\n",
       "      <td>-23.5290</td>\n",
       "      <td>21460.0</td>\n",
       "      <td>22707.0</td>\n",
       "      <td>33405.0</td>\n",
       "      <td>25978.0</td>\n",
       "      <td>21686.0</td>\n",
       "      <td>20686.0</td>\n",
       "    </tr>\n",
       "    <tr>\n",
       "      <th>1200</th>\n",
       "      <td>-18.1820</td>\n",
       "      <td>-17.8710</td>\n",
       "      <td>28108.0</td>\n",
       "      <td>29765.0</td>\n",
       "      <td>44484.0</td>\n",
       "      <td>34476.0</td>\n",
       "      <td>28426.0</td>\n",
       "      <td>26794.0</td>\n",
       "    </tr>\n",
       "    <tr>\n",
       "      <th>1400</th>\n",
       "      <td>-14.6090</td>\n",
       "      <td>-13.8420</td>\n",
       "      <td>34936.0</td>\n",
       "      <td>36966.0</td>\n",
       "      <td>55907.0</td>\n",
       "      <td>43447.0</td>\n",
       "      <td>35338.0</td>\n",
       "      <td>33062.0</td>\n",
       "    </tr>\n",
       "    <tr>\n",
       "      <th>1600</th>\n",
       "      <td>-11.9210</td>\n",
       "      <td>-10.8300</td>\n",
       "      <td>41903.0</td>\n",
       "      <td>44279.0</td>\n",
       "      <td>67580.0</td>\n",
       "      <td>52844.0</td>\n",
       "      <td>42384.0</td>\n",
       "      <td>39522.0</td>\n",
       "    </tr>\n",
       "    <tr>\n",
       "      <th>1800</th>\n",
       "      <td>-9.8260</td>\n",
       "      <td>-8.4970</td>\n",
       "      <td>48982.0</td>\n",
       "      <td>51689.0</td>\n",
       "      <td>79442.0</td>\n",
       "      <td>62609.0</td>\n",
       "      <td>49522.0</td>\n",
       "      <td>46150.0</td>\n",
       "    </tr>\n",
       "    <tr>\n",
       "      <th>2000</th>\n",
       "      <td>-8.1450</td>\n",
       "      <td>-6.6350</td>\n",
       "      <td>56141.0</td>\n",
       "      <td>59199.0</td>\n",
       "      <td>91450.0</td>\n",
       "      <td>72689.0</td>\n",
       "      <td>56739.0</td>\n",
       "      <td>52932.0</td>\n",
       "    </tr>\n",
       "    <tr>\n",
       "      <th>2100</th>\n",
       "      <td>-7.4565</td>\n",
       "      <td>-5.8775</td>\n",
       "      <td>59399.0</td>\n",
       "      <td>62653.0</td>\n",
       "      <td>96882.0</td>\n",
       "      <td>76666.0</td>\n",
       "      <td>60052.0</td>\n",
       "      <td>55840.0</td>\n",
       "    </tr>\n",
       "    <tr>\n",
       "      <th>2200</th>\n",
       "      <td>-6.7680</td>\n",
       "      <td>-5.1200</td>\n",
       "      <td>62872.0</td>\n",
       "      <td>66304.0</td>\n",
       "      <td>102696.0</td>\n",
       "      <td>81345.0</td>\n",
       "      <td>63562.0</td>\n",
       "      <td>59065.0</td>\n",
       "    </tr>\n",
       "    <tr>\n",
       "      <th>2300</th>\n",
       "      <td>-6.1935</td>\n",
       "      <td>-4.4900</td>\n",
       "      <td>66345.0</td>\n",
       "      <td>69955.0</td>\n",
       "      <td>108511.0</td>\n",
       "      <td>86024.0</td>\n",
       "      <td>67072.0</td>\n",
       "      <td>62291.0</td>\n",
       "    </tr>\n",
       "    <tr>\n",
       "      <th>2400</th>\n",
       "      <td>-5.6190</td>\n",
       "      <td>-3.8600</td>\n",
       "      <td>69818.0</td>\n",
       "      <td>73607.0</td>\n",
       "      <td>114325.0</td>\n",
       "      <td>90703.0</td>\n",
       "      <td>70582.0</td>\n",
       "      <td>65516.0</td>\n",
       "    </tr>\n",
       "    <tr>\n",
       "      <th>2500</th>\n",
       "      <td>-5.1335</td>\n",
       "      <td>-3.3305</td>\n",
       "      <td>73291.0</td>\n",
       "      <td>77258.0</td>\n",
       "      <td>120140.0</td>\n",
       "      <td>95382.0</td>\n",
       "      <td>74093.0</td>\n",
       "      <td>68741.0</td>\n",
       "    </tr>\n",
       "    <tr>\n",
       "      <th>2600</th>\n",
       "      <td>-4.6480</td>\n",
       "      <td>-2.8010</td>\n",
       "      <td>73291.0</td>\n",
       "      <td>NaN</td>\n",
       "      <td>NaN</td>\n",
       "      <td>NaN</td>\n",
       "      <td>NaN</td>\n",
       "      <td>NaN</td>\n",
       "    </tr>\n",
       "  </tbody>\n",
       "</table>\n",
       "</div>"
      ],
      "text/plain": [
       "          Kp1       Kp2       N2       O2       CO2       H2O        CO  \\\n",
       "h_f       NaN       NaN      0.0      0.0 -393520.0 -241820.0 -110530.0   \n",
       "298  -92.2080 -103.7620      0.0      0.0       0.0       0.0       0.0   \n",
       "500  -52.6910  -57.6160   5912.0   6088.0    8314.0    6920.0    5929.0   \n",
       "1000 -23.1630  -23.5290  21460.0  22707.0   33405.0   25978.0   21686.0   \n",
       "1200 -18.1820  -17.8710  28108.0  29765.0   44484.0   34476.0   28426.0   \n",
       "1400 -14.6090  -13.8420  34936.0  36966.0   55907.0   43447.0   35338.0   \n",
       "1600 -11.9210  -10.8300  41903.0  44279.0   67580.0   52844.0   42384.0   \n",
       "1800  -9.8260   -8.4970  48982.0  51689.0   79442.0   62609.0   49522.0   \n",
       "2000  -8.1450   -6.6350  56141.0  59199.0   91450.0   72689.0   56739.0   \n",
       "2100  -7.4565   -5.8775  59399.0  62653.0   96882.0   76666.0   60052.0   \n",
       "2200  -6.7680   -5.1200  62872.0  66304.0  102696.0   81345.0   63562.0   \n",
       "2300  -6.1935   -4.4900  66345.0  69955.0  108511.0   86024.0   67072.0   \n",
       "2400  -5.6190   -3.8600  69818.0  73607.0  114325.0   90703.0   70582.0   \n",
       "2500  -5.1335   -3.3305  73291.0  77258.0  120140.0   95382.0   74093.0   \n",
       "2600  -4.6480   -2.8010  73291.0      NaN       NaN       NaN       NaN   \n",
       "\n",
       "           H2  \n",
       "h_f       0.0  \n",
       "298       0.0  \n",
       "500    5883.0  \n",
       "1000  20686.0  \n",
       "1200  26794.0  \n",
       "1400  33062.0  \n",
       "1600  39522.0  \n",
       "1800  46150.0  \n",
       "2000  52932.0  \n",
       "2100  55840.0  \n",
       "2200  59065.0  \n",
       "2300  62291.0  \n",
       "2400  65516.0  \n",
       "2500  68741.0  \n",
       "2600      NaN  "
      ]
     },
     "execution_count": 10,
     "metadata": {},
     "output_type": "execute_result"
    }
   ],
   "source": [
    "data"
   ]
  },
  {
   "cell_type": "code",
   "execution_count": 11,
   "id": "743bdd79",
   "metadata": {
    "ExecuteTime": {
     "end_time": "2022-05-04T13:27:45.221047Z",
     "start_time": "2022-05-04T13:27:45.171091Z"
    }
   },
   "outputs": [],
   "source": [
    "#Assume starting Temperature=2000 K\n",
    "t=2000\n",
    "\n",
    "\n",
    "#Getting properties and equations at t\n",
    "\n",
    "if t in data.index:   #making sure t doesn't need interpolation\n",
    "    props=data.loc[t]\n",
    "\n",
    "else:\n",
    "    props=interpolate(t,data)\n",
    "    \n",
    "    \n",
    "eq1=Eq(kp1,exp(props['Kp1']))\n",
    "eq2=Eq(kp2,exp(props['Kp2']))"
   ]
  },
  {
   "cell_type": "code",
   "execution_count": 12,
   "id": "cb361a6d",
   "metadata": {
    "ExecuteTime": {
     "end_time": "2022-05-04T13:27:47.107271Z",
     "start_time": "2022-05-04T13:27:47.081288Z"
    }
   },
   "outputs": [
    {
     "data": {
      "text/latex": [
       "$\\displaystyle \\frac{1.56524758424985 e \\left(- 0.204081632653061 a + 0.204081632653061 e + 1\\right)^{0.5} \\left(\\frac{1}{- 0.5 a + 0.5 e + 34.99}\\right)^{0.5}}{\\frac{9}{2} - e} = 0.000290182651641186$"
      ],
      "text/plain": [
       "Eq(1.56524758424985*e*(-0.204081632653061*a + 0.204081632653061*e + 1)**0.5*(1/(-0.5*a + 0.5*e + 34.99))**0.5/(9/2 - e), 0.000290182651641186)"
      ]
     },
     "execution_count": 12,
     "metadata": {},
     "output_type": "execute_result"
    }
   ],
   "source": [
    "eq1"
   ]
  },
  {
   "cell_type": "code",
   "execution_count": 13,
   "id": "84e16b94",
   "metadata": {
    "ExecuteTime": {
     "end_time": "2022-05-04T13:27:50.501211Z",
     "start_time": "2022-05-04T13:27:50.480230Z"
    }
   },
   "outputs": [
    {
     "data": {
      "text/latex": [
       "$\\displaystyle \\frac{1.56524758424985 \\cdot \\left(3.6 - a\\right) \\left(- 0.204081632653061 a + 0.204081632653061 e + 1\\right)^{0.5} \\left(\\frac{1}{- 0.5 a + 0.5 e + 34.99}\\right)^{0.5}}{a} = 0.00131357874515992$"
      ],
      "text/plain": [
       "Eq(1.56524758424985*(3.6 - a)*(-0.204081632653061*a + 0.204081632653061*e + 1)**0.5*(1/(-0.5*a + 0.5*e + 34.99))**0.5/a, 0.00131357874515992)"
      ]
     },
     "execution_count": 13,
     "metadata": {},
     "output_type": "execute_result"
    }
   ],
   "source": [
    "eq2"
   ]
  },
  {
   "cell_type": "code",
   "execution_count": 20,
   "id": "eeecd7e1",
   "metadata": {
    "ExecuteTime": {
     "end_time": "2022-05-04T12:44:19.436066Z",
     "start_time": "2022-05-04T12:44:19.419059Z"
    }
   },
   "outputs": [
    {
     "data": {
      "text/plain": [
       "Kp1       -8.145\n",
       "Kp2       -6.635\n",
       "N2     56141.000\n",
       "O2     59199.000\n",
       "CO2    91450.000\n",
       "H2O    72689.000\n",
       "CO     56739.000\n",
       "H2     52932.000\n",
       "Name: 2000, dtype: float64"
      ]
     },
     "execution_count": 20,
     "metadata": {},
     "output_type": "execute_result"
    }
   ],
   "source": [
    "props"
   ]
  },
  {
   "cell_type": "code",
   "execution_count": 14,
   "id": "2e785612",
   "metadata": {
    "ExecuteTime": {
     "end_time": "2022-05-04T13:28:00.235489Z",
     "start_time": "2022-05-04T13:27:59.149922Z"
    }
   },
   "outputs": [
    {
     "data": {
      "text/latex": [
       "$\\displaystyle \\frac{0.02 \\cdot \\left(2.72222199299485 \\cdot 10^{38} e^{3} + 1.3338874910604 \\cdot 10^{39} e^{2} + 1.39730125708069 \\cdot 10^{34} e - 3.24836954722633 \\cdot 10^{34}\\right)}{5.44444398598969 \\cdot 10^{36} e^{2} + 4.12609259436199 \\cdot 10^{30} e - 9.28370833731447 \\cdot 10^{30}}$"
      ],
      "text/plain": [
       "0.02*(2.72222199299485e+38*e**3 + 1.3338874910604e+39*e**2 + 1.39730125708069e+34*e - 3.24836954722633e+34)/(5.44444398598969e+36*e**2 + 4.12609259436199e+30*e - 9.28370833731447e+30)"
      ]
     },
     "execution_count": 14,
     "metadata": {},
     "output_type": "execute_result"
    }
   ],
   "source": [
    "solve(eq1,a)[0]"
   ]
  },
  {
   "cell_type": "code",
   "execution_count": 19,
   "id": "19b1f3d8",
   "metadata": {
    "ExecuteTime": {
     "end_time": "2022-05-04T12:43:54.258001Z",
     "start_time": "2022-05-04T12:43:54.071111Z"
    }
   },
   "outputs": [
    {
     "data": {
      "text/plain": [
       "[3.56703729707725]"
      ]
     },
     "execution_count": 19,
     "metadata": {},
     "output_type": "execute_result"
    }
   ],
   "source": [
    "solve(eq1.subs(e,0.00916763559565160))"
   ]
  },
  {
   "cell_type": "code",
   "execution_count": 16,
   "id": "d8f88e85",
   "metadata": {
    "ExecuteTime": {
     "end_time": "2022-05-04T13:28:25.282385Z",
     "start_time": "2022-05-04T13:28:24.950104Z"
    }
   },
   "outputs": [
    {
     "data": {
      "text/plain": [
       "[-1.37333356541368]"
      ]
     },
     "execution_count": 16,
     "metadata": {},
     "output_type": "execute_result"
    }
   ],
   "source": [
    "solve(eq2.subs(a,3.45900774413300))"
   ]
  },
  {
   "cell_type": "code",
   "execution_count": null,
   "id": "04e72b71",
   "metadata": {
    "ExecuteTime": {
     "start_time": "2022-05-04T12:47:44.665Z"
    }
   },
   "outputs": [],
   "source": [
    "n_e=solve(eq2,e)[0] #finding e in terms of a using first equation in order to simplify  \n",
    "\n",
    "for i in solve(eq2.subs(a,n_e)): #solves the second equation\n",
    "    if i<3.6: #as more than root will be obtained, maximum value of a is used as condition  \n",
    "        new_a=i\n",
    "    print(i)\n",
    "for i in vals.keys(): \n",
    "    vals[i].append(i.subs({a:new_a,e:n_e.subs(a,new_a)})) #updating values for this iteration"
   ]
  },
  {
   "cell_type": "markdown",
   "id": "68637253",
   "metadata": {},
   "source": [
    "<h3>\n",
    "Q = H<sub>P</sub> - H<sub>R</sub> = 0"
   ]
  },
  {
   "cell_type": "code",
   "execution_count": 49,
   "id": "cca8baf6",
   "metadata": {
    "ExecuteTime": {
     "end_time": "2022-05-04T12:19:19.981853Z",
     "start_time": "2022-05-04T12:19:19.957856Z"
    }
   },
   "outputs": [
    {
     "data": {
      "text/latex": [
       "$\\displaystyle -1.37333356541497$"
      ],
      "text/plain": [
       "-1.37333356541497"
      ]
     },
     "execution_count": 49,
     "metadata": {},
     "output_type": "execute_result"
    }
   ],
   "source": [
    "n_e.subs(a,3.45900774413300)"
   ]
  },
  {
   "cell_type": "code",
   "execution_count": 46,
   "id": "657d0a1b",
   "metadata": {
    "ExecuteTime": {
     "end_time": "2022-05-04T12:18:05.467939Z",
     "start_time": "2022-05-04T12:18:05.443915Z"
    }
   },
   "outputs": [
    {
     "data": {
      "text/plain": [
       "dict_values([['kp1', 0.000290182655646885], ['kp2', 0.00131357874515520], ['a', 3.56703729707882], ['b', 0.0329627029211803], ['d', 4.49083236427847], ['e', 0.00916763572152929], ['f', 0.671065169321355], ['g', 24.4400000000000]])"
      ]
     },
     "execution_count": 46,
     "metadata": {},
     "output_type": "execute_result"
    }
   ],
   "source": [
    "composition_values.values()"
   ]
  },
  {
   "cell_type": "code",
   "execution_count": 30,
   "id": "1b2ffa5c",
   "metadata": {
    "ExecuteTime": {
     "end_time": "2022-05-04T12:12:45.767381Z",
     "start_time": "2022-05-04T12:12:45.751382Z"
    }
   },
   "outputs": [],
   "source": [
    "h_f_C4H10=-103850\n",
    "\n",
    "phi=0.9"
   ]
  },
  {
   "cell_type": "code",
   "execution_count": 31,
   "id": "887404d6",
   "metadata": {
    "ExecuteTime": {
     "end_time": "2022-05-04T12:12:45.823382Z",
     "start_time": "2022-05-04T12:12:45.775378Z"
    }
   },
   "outputs": [],
   "source": [
    "H_R=phi*(h_f_C4H10) + 6.5*(data.loc['h_f']['O2']+data.loc[298]['O2']) + g*(data.loc['h_f']['N2']+data.loc[298]['N2'])\n",
    "\n",
    "H_P=(a*(data.loc['h_f']['CO2']+props['CO2']) + b*(data.loc['h_f']['CO']+props['CO']) +d*(data.loc['h_f']['H2O']+props['H2O']) +e*(data.loc['h_f']['H2']+props['H2']) + f*(data.loc['h_f']['O2']+props['O2']) + g*(data.loc['h_f']['N2']+props['N2'])).subs({a:new_a,e:n_e.subs(a,new_a)})\n",
    "\n",
    "Q=H_P - H_R #in this equation H_ P was obtained in terms of 'a' and 'e' as well \n",
    "\n",
    "temps[t]=Q"
   ]
  },
  {
   "cell_type": "code",
   "execution_count": 32,
   "id": "2cd9bc5b",
   "metadata": {
    "ExecuteTime": {
     "end_time": "2022-05-04T12:12:45.839372Z",
     "start_time": "2022-05-04T12:12:45.831372Z"
    }
   },
   "outputs": [
    {
     "data": {
      "text/latex": [
       "$\\displaystyle -33054.0482218196$"
      ],
      "text/plain": [
       "-33054.0482218196"
      ]
     },
     "execution_count": 32,
     "metadata": {},
     "output_type": "execute_result"
    }
   ],
   "source": [
    "Q"
   ]
  },
  {
   "cell_type": "code",
   "execution_count": 19,
   "id": "fabaada8",
   "metadata": {
    "ExecuteTime": {
     "end_time": "2022-05-03T23:48:05.329862Z",
     "start_time": "2022-05-03T23:48:05.313865Z"
    }
   },
   "outputs": [
    {
     "data": {
      "text/plain": [
       "{2000: -333044.333431547,\n",
       " 2050: -328046.067901509,\n",
       " 2100: -320962.489794315,\n",
       " 2150: -311013.027843821,\n",
       " 2200: -297199.952982163,\n",
       " 2250: -281886.497016420,\n",
       " 2300: -262241.254322321,\n",
       " 2350: -237377.149794111}"
      ]
     },
     "execution_count": 19,
     "metadata": {},
     "output_type": "execute_result"
    }
   ],
   "source": [
    "temps"
   ]
  },
  {
   "cell_type": "code",
   "execution_count": 14,
   "id": "4656579c",
   "metadata": {
    "ExecuteTime": {
     "end_time": "2022-05-04T12:03:46.968590Z",
     "start_time": "2022-05-04T12:03:46.944589Z"
    }
   },
   "outputs": [],
   "source": [
    "q_pos=1000000000\n",
    "q_neg=-1000000000\n",
    "if Q>0: #decrease Temperature\n",
    "    t-=100\n",
    "    q_pos=Q\n",
    "else: #higher Temperature\n",
    "    t+=50\n",
    "    q_neg=Q"
   ]
  },
  {
   "cell_type": "code",
   "execution_count": null,
   "id": "a6d37345",
   "metadata": {
    "ExecuteTime": {
     "start_time": "2022-05-04T12:09:36.174Z"
    }
   },
   "outputs": [],
   "source": [
    "counter=0\n",
    "\n",
    "while abs(Q) > 0.1:          \n",
    "    \n",
    "    #Getting properties at t\n",
    "    \n",
    "    if t in data.index:                #making sure t doesn't need interpolation\n",
    "        props=data.loc[t]\n",
    "\n",
    "    else:\n",
    "        props=interpolate(t,data)\n",
    "\n",
    "\n",
    "    eq1=Eq(kp1,exp(props['Kp1']))\n",
    "    eq2=Eq(kp2,exp(props['Kp2']))\n",
    "    \n",
    "    n_e=solve(eq2,e)[0] #finding e in terms of a using the second equation in order to simplify  \n",
    "\n",
    "    for i in solve(eq1.subs(e,n_e)): \n",
    "        if i<3.6: \n",
    "            new_a=i\n",
    "        \n",
    "    for i in composition_values.keys(): \n",
    "        composition_values[i].append(i.subs({a:new_a,e:n_e.subs(a,new_a)})) #updating values for this iteration   \n",
    "        \n",
    "        \n",
    "    #calculating new Q and adding it to its corresponding temperature\n",
    "    H_P=(a*(data.loc['h_f']['CO2']+props['CO2']) + b*(data.loc['h_f']['CO']+props['CO']) +d*(data.loc['h_f']['H2O']+props['H2O']) +e*(data.loc['h_f']['H2']+props['H2']) + f*(data.loc['h_f']['O2']+props['O2']) + g*(data.loc['h_f']['N2']+props['N2'])).subs({a:new_a,e:n_e.subs(a,new_a)})\n",
    "    Q=H_P - H_R\n",
    "    temps[t]=Q \n",
    "    print(temps,Q)\n",
    "    \n",
    "    counter+=1 \n",
    "    \n",
    "    if Q>0 and Q<q_pos: \n",
    "        t-=100\n",
    "        q_pos=Q\n",
    "    elif Q<0 and Q>q_neg:\n",
    "        t+=50\n",
    "        q_neg=Q\n",
    "    \n",
    "    if q_pos!=1000000000 and q_neg!=-1000000000:\n",
    "        t=(get_key(q_neg,temps))+(-q_neg)*(get_key(q_pos,temps)-get_key(q_neg,temps))/(q_pos-q_neg)\n",
    "\n",
    "    "
   ]
  },
  {
   "cell_type": "code",
   "execution_count": 36,
   "id": "1be7bfd9",
   "metadata": {
    "ExecuteTime": {
     "end_time": "2022-05-03T23:10:30.522906Z",
     "start_time": "2022-05-03T23:10:30.504896Z"
    }
   },
   "outputs": [
    {
     "data": {
      "text/plain": [
       "{2000: -325198.821882476,\n",
       " 2050: -257064.365823944,\n",
       " 2100: -185446.714917026,\n",
       " 2150: -104177.256162329,\n",
       " 2200: -16686.4487355830,\n",
       " 2250: 72981.8395083551,\n",
       " 2209.30454292279: -453.355078786961,\n",
       " 2209.55577793692: -12.3149309707806,\n",
       " 2209.56260132993: -0.334513013047399}"
      ]
     },
     "execution_count": 36,
     "metadata": {},
     "output_type": "execute_result"
    }
   ],
   "source": [
    "temps"
   ]
  },
  {
   "cell_type": "code",
   "execution_count": 24,
   "id": "4b7b19a7",
   "metadata": {
    "ExecuteTime": {
     "end_time": "2022-05-03T23:04:28.069641Z",
     "start_time": "2022-05-03T23:04:28.050653Z"
    }
   },
   "outputs": [],
   "source": [
    "n_val=dict()\n",
    "for i in composition_values:\n",
    "    n_val[composition_values[i][0]]=composition_values[i][1:]"
   ]
  },
  {
   "cell_type": "code",
   "execution_count": 33,
   "id": "66414967",
   "metadata": {
    "ExecuteTime": {
     "end_time": "2022-05-03T23:08:26.521935Z",
     "start_time": "2022-05-03T23:08:26.479958Z"
    }
   },
   "outputs": [
    {
     "data": {
      "text/html": [
       "<div>\n",
       "<style scoped>\n",
       "    .dataframe tbody tr th:only-of-type {\n",
       "        vertical-align: middle;\n",
       "    }\n",
       "\n",
       "    .dataframe tbody tr th {\n",
       "        vertical-align: top;\n",
       "    }\n",
       "\n",
       "    .dataframe thead th {\n",
       "        text-align: right;\n",
       "    }\n",
       "</style>\n",
       "<table border=\"1\" class=\"dataframe\">\n",
       "  <thead>\n",
       "    <tr style=\"text-align: right;\">\n",
       "      <th></th>\n",
       "      <th>kp1</th>\n",
       "      <th>kp2</th>\n",
       "      <th>a</th>\n",
       "      <th>b</th>\n",
       "      <th>d</th>\n",
       "      <th>e</th>\n",
       "      <th>f</th>\n",
       "      <th>g</th>\n",
       "    </tr>\n",
       "  </thead>\n",
       "  <tbody>\n",
       "    <tr>\n",
       "      <th>1</th>\n",
       "      <td>0.00131357874992275</td>\n",
       "      <td>0.00131357874516236</td>\n",
       "      <td>3.56740303464292</td>\n",
       "      <td>0.0325969653570830</td>\n",
       "      <td>4.45925379315732</td>\n",
       "      <td>0.0407462068426804</td>\n",
       "      <td>0.686671586099882</td>\n",
       "      <td>24.4400000000000</td>\n",
       "    </tr>\n",
       "    <tr>\n",
       "      <th>2</th>\n",
       "      <td>0.00191842642924818</td>\n",
       "      <td>0.00191842642363409</td>\n",
       "      <td>3.55311809906046</td>\n",
       "      <td>0.0468819009395438</td>\n",
       "      <td>4.44139762365631</td>\n",
       "      <td>0.0586023763436907</td>\n",
       "      <td>0.702742138641617</td>\n",
       "      <td>24.4400000000000</td>\n",
       "    </tr>\n",
       "    <tr>\n",
       "      <th>3</th>\n",
       "      <td>0.00280178097872872</td>\n",
       "      <td>0.00280178097920621</td>\n",
       "      <td>3.53296856448601</td>\n",
       "      <td>0.0670314355139858</td>\n",
       "      <td>4.41621070562153</td>\n",
       "      <td>0.0837892943784684</td>\n",
       "      <td>0.725410364946227</td>\n",
       "      <td>24.4400000000000</td>\n",
       "    </tr>\n",
       "    <tr>\n",
       "      <th>4</th>\n",
       "      <td>0.00409188309786480</td>\n",
       "      <td>0.00409188309688171</td>\n",
       "      <td>3.50488472728724</td>\n",
       "      <td>0.0951152727127647</td>\n",
       "      <td>4.38110590908123</td>\n",
       "      <td>0.118894090918766</td>\n",
       "      <td>0.757004681815765</td>\n",
       "      <td>24.4400000000000</td>\n",
       "    </tr>\n",
       "    <tr>\n",
       "      <th>5</th>\n",
       "      <td>0.00597602289521474</td>\n",
       "      <td>0.00597602289500452</td>\n",
       "      <td>3.46630666051079</td>\n",
       "      <td>0.133693339489210</td>\n",
       "      <td>4.33288332563283</td>\n",
       "      <td>0.167116674367173</td>\n",
       "      <td>0.800405006928192</td>\n",
       "      <td>24.4400000000000</td>\n",
       "    </tr>\n",
       "    <tr>\n",
       "      <th>6</th>\n",
       "      <td>0.00818870101399894</td>\n",
       "      <td>0.00818870101437347</td>\n",
       "      <td>3.42405794308597</td>\n",
       "      <td>0.175942056914034</td>\n",
       "      <td>4.28007242886702</td>\n",
       "      <td>0.219927571132976</td>\n",
       "      <td>0.847934814023505</td>\n",
       "      <td>24.4400000000000</td>\n",
       "    </tr>\n",
       "    <tr>\n",
       "      <th>7</th>\n",
       "      <td>0.00633679993875337</td>\n",
       "      <td>0.00633679993807665</td>\n",
       "      <td>3.45920931182746</td>\n",
       "      <td>0.140790688172544</td>\n",
       "      <td>4.32401163976626</td>\n",
       "      <td>0.175988360233739</td>\n",
       "      <td>0.808389524203141</td>\n",
       "      <td>24.4400000000000</td>\n",
       "    </tr>\n",
       "    <tr>\n",
       "      <th>8</th>\n",
       "      <td>0.00634683764284144</td>\n",
       "      <td>0.00634683764365943</td>\n",
       "      <td>3.45901307716268</td>\n",
       "      <td>0.140986922837322</td>\n",
       "      <td>4.32376634647517</td>\n",
       "      <td>0.176233653524829</td>\n",
       "      <td>0.808610288181076</td>\n",
       "      <td>24.4400000000000</td>\n",
       "    </tr>\n",
       "    <tr>\n",
       "      <th>9</th>\n",
       "      <td>0.00634711048365354</td>\n",
       "      <td>0.00634711048342118</td>\n",
       "      <td>3.45900774413300</td>\n",
       "      <td>0.140992255866995</td>\n",
       "      <td>4.32375968016006</td>\n",
       "      <td>0.176240319839943</td>\n",
       "      <td>0.808616287853470</td>\n",
       "      <td>24.4400000000000</td>\n",
       "    </tr>\n",
       "  </tbody>\n",
       "</table>\n",
       "</div>"
      ],
      "text/plain": [
       "                   kp1                  kp2                 a  \\\n",
       "1  0.00131357874992275  0.00131357874516236  3.56740303464292   \n",
       "2  0.00191842642924818  0.00191842642363409  3.55311809906046   \n",
       "3  0.00280178097872872  0.00280178097920621  3.53296856448601   \n",
       "4  0.00409188309786480  0.00409188309688171  3.50488472728724   \n",
       "5  0.00597602289521474  0.00597602289500452  3.46630666051079   \n",
       "6  0.00818870101399894  0.00818870101437347  3.42405794308597   \n",
       "7  0.00633679993875337  0.00633679993807665  3.45920931182746   \n",
       "8  0.00634683764284144  0.00634683764365943  3.45901307716268   \n",
       "9  0.00634711048365354  0.00634711048342118  3.45900774413300   \n",
       "\n",
       "                    b                 d                   e  \\\n",
       "1  0.0325969653570830  4.45925379315732  0.0407462068426804   \n",
       "2  0.0468819009395438  4.44139762365631  0.0586023763436907   \n",
       "3  0.0670314355139858  4.41621070562153  0.0837892943784684   \n",
       "4  0.0951152727127647  4.38110590908123   0.118894090918766   \n",
       "5   0.133693339489210  4.33288332563283   0.167116674367173   \n",
       "6   0.175942056914034  4.28007242886702   0.219927571132976   \n",
       "7   0.140790688172544  4.32401163976626   0.175988360233739   \n",
       "8   0.140986922837322  4.32376634647517   0.176233653524829   \n",
       "9   0.140992255866995  4.32375968016006   0.176240319839943   \n",
       "\n",
       "                   f                 g  \n",
       "1  0.686671586099882  24.4400000000000  \n",
       "2  0.702742138641617  24.4400000000000  \n",
       "3  0.725410364946227  24.4400000000000  \n",
       "4  0.757004681815765  24.4400000000000  \n",
       "5  0.800405006928192  24.4400000000000  \n",
       "6  0.847934814023505  24.4400000000000  \n",
       "7  0.808389524203141  24.4400000000000  \n",
       "8  0.808610288181076  24.4400000000000  \n",
       "9  0.808616287853470  24.4400000000000  "
      ]
     },
     "execution_count": 33,
     "metadata": {},
     "output_type": "execute_result"
    }
   ],
   "source": [
    "asd=pd.DataFrame(n_val,index=[i for i in range(1,10)])\n",
    "\n",
    "asd"
   ]
  },
  {
   "cell_type": "code",
   "execution_count": 49,
   "id": "352f5377",
   "metadata": {
    "ExecuteTime": {
     "end_time": "2022-05-03T23:13:36.873570Z",
     "start_time": "2022-05-03T23:13:36.865575Z"
    }
   },
   "outputs": [],
   "source": [
    "asd['temps']=temps.keys()"
   ]
  },
  {
   "cell_type": "code",
   "execution_count": 57,
   "id": "9e271cf4",
   "metadata": {
    "ExecuteTime": {
     "end_time": "2022-05-03T23:17:11.508309Z",
     "start_time": "2022-05-03T23:17:11.494317Z"
    }
   },
   "outputs": [
    {
     "name": "stdout",
     "output_type": "stream",
     "text": [
      "adiabatic flame temperature= 2209.56260132993\n",
      "kp1= 0.00634711048365354\n",
      "kp2= 0.00634711048342118\n",
      "a= 3.45900774413300\n",
      "b= 0.140992255866995\n",
      "d= 4.32375968016006\n",
      "e= 0.176240319839943\n",
      "f= 0.808616287853470\n",
      "g= 24.4400000000000\n"
     ]
    }
   ],
   "source": [
    "print(f'adiabatic flame temperature= {list(temps.keys())[-1]}')\n",
    "for i in composition_values:\n",
    "    print(f'{composition_values[i][0]}= {composition_values[i][-1]}')"
   ]
  },
  {
   "cell_type": "code",
   "execution_count": null,
   "id": "5ef60fe9",
   "metadata": {},
   "outputs": [],
   "source": []
  }
 ],
 "metadata": {
  "kernelspec": {
   "display_name": "Python 3 (ipykernel)",
   "language": "python",
   "name": "python3"
  },
  "language_info": {
   "codemirror_mode": {
    "name": "ipython",
    "version": 3
   },
   "file_extension": ".py",
   "mimetype": "text/x-python",
   "name": "python",
   "nbconvert_exporter": "python",
   "pygments_lexer": "ipython3",
   "version": "3.9.6"
  }
 },
 "nbformat": 4,
 "nbformat_minor": 5
}
