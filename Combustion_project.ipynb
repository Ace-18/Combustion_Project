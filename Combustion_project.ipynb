{
 "cells": [
  {
   "cell_type": "markdown",
   "id": "5acb0e86",
   "metadata": {},
   "source": [
    "<h3>\n",
    "ΦC<sub>4</sub>H<sub>10</sub> + (6.5)(O<sub>2</sub> + 3.76 N<sub>2</sub>\n",
    ") → a CO<sub>2</sub>+ b CO + d H<sub>2</sub>O + e H<sub>2</sub>+ f O<sub>2</sub>+g N<sub>2</sub>\n",
    "</h3>\n",
    "<hr>\n",
    "P = 1 atm<br>\n",
    "T = 298.15 K<br>\n",
    "Φ=0.9"
   ]
  },
  {
   "cell_type": "markdown",
   "id": "9cfc956f",
   "metadata": {},
   "source": [
    "<h4>Equations:</h4>\n",
    "Carbon Balance:\n",
    "a+b=3.6<br>\n",
    "b=3.6-a\n",
    "\n",
    "Hydrogen Balance:\n",
    "2*(d+e)=9<br>\n",
    "d=4.5-e\n",
    "\n",
    "Oxygen Balance: \n",
    "2(a+f)+b+d=13<br>\n",
    "2(a+f)+(3.6-a)+(4.5-e)=13<br>\n",
    "a+2*f-e=4.9<br>\n",
    "f=2.45- <sup>a</sup>&frasl;<sub>2</sub> + <sup>e</sup>&frasl;<sub>2</sub>\n",
    "\n",
    "Nitrogen Balance:\n",
    "g=24.44"
   ]
  },
  {
   "cell_type": "markdown",
   "id": "4072c9d2",
   "metadata": {},
   "source": [
    "<h3>\n",
    "0.9C<sub>4</sub>H<sub>10</sub> + (6.5)(O<sub>2</sub> + 3.76 N<sub>2</sub>\n",
    ") → a CO<sub>2</sub>+ (3.6-a) CO + (4.5-e) H<sub>2</sub>O + e H<sub>2</sub>+ (2.45- <sup>a</sup>&frasl;<sub>2</sub> + <sup>e</sup>&frasl;<sub>2</sub>) O<sub>2</sub>+24.44 N<sub>2</sub>\n",
    "</h3>"
   ]
  },
  {
   "cell_type": "markdown",
   "id": "28f227f3",
   "metadata": {
    "ExecuteTime": {
     "end_time": "2022-03-10T21:44:38.385711Z",
     "start_time": "2022-03-10T21:44:38.365723Z"
    }
   },
   "source": [
    "total number of moles N<sub>T</sub><br>\n",
    "= a+(3.6-a)+(4.5-e)+e+(2.45- <sup>a</sup>&frasl;<sub>2</sub> + <sup>e</sup>&frasl;<sub>2</sub>)+24.44<br>\n",
    "\n",
    "=34.99- <sup>a</sup>&frasl;<sub>2</sub> + <sup>e</sup>&frasl;<sub>2</sub>\n"
   ]
  },
  {
   "cell_type": "markdown",
   "id": "1f6fe6b9",
   "metadata": {},
   "source": [
    "Equations:\n",
    "\n",
    "CO + H<sub>2</sub>O ⇌ CO<sub>2</sub> + H<sub>2</sub> .....1\n",
    "\n",
    "H<sub>2</sub>O ⇌ H<sub>2</sub> + <sup>1</sup>&frasl;<sub>2</sub> O<sub>2</sub> .............2\n",
    "\n",
    "CO<sub>2</sub> ⇌ CO + <sup>1</sup>&frasl;<sub>2</sub> O<sub>2</sub>  ............3"
   ]
  },
  {
   "cell_type": "code",
   "execution_count": 1,
   "id": "e55bd89f",
   "metadata": {
    "ExecuteTime": {
     "end_time": "2022-05-01T18:44:28.035438Z",
     "start_time": "2022-05-01T18:44:20.955837Z"
    }
   },
   "outputs": [],
   "source": [
    "from sympy import Eq , solve , symbols , Function, exp, solveset\n",
    "import pandas as pd"
   ]
  },
  {
   "cell_type": "code",
   "execution_count": 2,
   "id": "64b3ac75",
   "metadata": {
    "ExecuteTime": {
     "end_time": "2022-05-01T18:44:28.051056Z",
     "start_time": "2022-05-01T18:44:28.035438Z"
    }
   },
   "outputs": [],
   "source": [
    "a,b,d,e,f,g=symbols('a b d:g',real=True)"
   ]
  },
  {
   "cell_type": "code",
   "execution_count": 3,
   "id": "c19a670a",
   "metadata": {
    "ExecuteTime": {
     "end_time": "2022-05-01T18:44:29.260314Z",
     "start_time": "2022-05-01T18:44:28.051056Z"
    }
   },
   "outputs": [],
   "source": [
    "#Carbon balance:\n",
    "c_eqn=Eq(a+b,3.6)\n",
    "b=(solve(c_eqn,b)[0])\n",
    "\n",
    "#Hydrogen balance:\n",
    "h_eqn=Eq(2*d+2*e,9)\n",
    "d=(solve(h_eqn,d)[0])\n",
    "\n",
    "#Oxygen balance:\n",
    "o_eqn=Eq(2*a+b+d+2*f,13)\n",
    "f=(solve(o_eqn,f)[0])\n",
    "\n",
    "#Nitrogen balance:\n",
    "n_eqn=Eq(2*g,6.5*3.76*2)\n",
    "g=(solve(n_eqn,g)[0])\n",
    "\n",
    "N_total=a+b+d+e+f+g"
   ]
  },
  {
   "cell_type": "markdown",
   "id": "6d62a04a",
   "metadata": {},
   "source": [
    "CO + H<sub>2</sub>O ⇌ CO<sub>2</sub> + H<sub>2</sub> .....1"
   ]
  },
  {
   "cell_type": "code",
   "execution_count": 4,
   "id": "051fc4fa",
   "metadata": {
    "ExecuteTime": {
     "end_time": "2022-05-01T18:44:30.203902Z",
     "start_time": "2022-05-01T18:44:30.155918Z"
    }
   },
   "outputs": [
    {
     "data": {
      "text/latex": [
       "$\\displaystyle \\frac{a e}{\\left(3.6 - a\\right) \\left(\\frac{9}{2} - e\\right)}$"
      ],
      "text/plain": [
       "a*e/((3.6 - a)*(9/2 - e))"
      ]
     },
     "execution_count": 4,
     "metadata": {},
     "output_type": "execute_result"
    }
   ],
   "source": [
    "kp1=(a*e)/(b*d)*(1/N_total)**(1+1-1-1)\n",
    "kp1"
   ]
  },
  {
   "cell_type": "markdown",
   "id": "af1b89cc",
   "metadata": {
    "ExecuteTime": {
     "end_time": "2022-04-23T16:03:19.079554Z",
     "start_time": "2022-04-23T16:03:19.047551Z"
    }
   },
   "source": [
    "H<sub>2</sub>O ⇌ H<sub>2</sub> + <sup>1</sup>&frasl;<sub>2</sub> O<sub>2</sub> .............2"
   ]
  },
  {
   "cell_type": "code",
   "execution_count": 5,
   "id": "70c57f6c",
   "metadata": {
    "ExecuteTime": {
     "end_time": "2022-05-01T18:44:31.408478Z",
     "start_time": "2022-05-01T18:44:31.355560Z"
    }
   },
   "outputs": [
    {
     "data": {
      "text/latex": [
       "$\\displaystyle \\frac{1.56524758424985 e \\left(- 0.204081632653061 a + 0.204081632653061 e + 1\\right)^{0.5} \\left(\\frac{1}{- 0.5 a + 0.5 e + 34.99}\\right)^{0.5}}{\\frac{9}{2} - e}$"
      ],
      "text/plain": [
       "1.56524758424985*e*(-0.204081632653061*a + 0.204081632653061*e + 1)**0.5*(1/(-0.5*a + 0.5*e + 34.99))**0.5/(9/2 - e)"
      ]
     },
     "execution_count": 5,
     "metadata": {},
     "output_type": "execute_result"
    }
   ],
   "source": [
    "kp2=e*f**0.5/(d) * (1/(N_total))**(1+0.5-1) \n",
    "\n",
    "kp2"
   ]
  },
  {
   "cell_type": "markdown",
   "id": "552d0803",
   "metadata": {
    "ExecuteTime": {
     "end_time": "2022-04-23T16:03:32.263291Z",
     "start_time": "2022-04-23T16:03:32.247666Z"
    }
   },
   "source": [
    "CO<sub>2</sub> ⇌ CO + <sup>1</sup>&frasl;<sub>2</sub> O<sub>2</sub>  ............3"
   ]
  },
  {
   "cell_type": "code",
   "execution_count": 6,
   "id": "53af335e",
   "metadata": {
    "ExecuteTime": {
     "end_time": "2022-05-01T18:44:32.608785Z",
     "start_time": "2022-05-01T18:44:32.568787Z"
    }
   },
   "outputs": [
    {
     "data": {
      "text/latex": [
       "$\\displaystyle \\frac{1.56524758424985 \\cdot \\left(3.6 - a\\right) \\left(- 0.204081632653061 a + 0.204081632653061 e + 1\\right)^{0.5} \\left(\\frac{1}{- 0.5 a + 0.5 e + 34.99}\\right)^{0.5}}{a}$"
      ],
      "text/plain": [
       "1.56524758424985*(3.6 - a)*(-0.204081632653061*a + 0.204081632653061*e + 1)**0.5*(1/(-0.5*a + 0.5*e + 34.99))**0.5/a"
      ]
     },
     "execution_count": 6,
     "metadata": {},
     "output_type": "execute_result"
    }
   ],
   "source": [
    "kp3=b*(f**0.5)/(a)*(1/N_total)**(1+0.5-1) #- exp(props['Kp3'])\n",
    "kp3"
   ]
  },
  {
   "cell_type": "code",
   "execution_count": 7,
   "id": "30c4851a",
   "metadata": {
    "ExecuteTime": {
     "end_time": "2022-05-01T18:44:33.297699Z",
     "start_time": "2022-05-01T18:44:33.273701Z"
    }
   },
   "outputs": [],
   "source": [
    "#defining functions to be used \n",
    "def get_key(v,dictionary):\n",
    "    for key, value in dictionary.items():\n",
    "         if v == value:\n",
    "            return key\n",
    "        \n",
    "\n",
    "def interpolate(temp,df):\n",
    "     \n",
    "    for t in df.index[1:]:\n",
    "        if t<temp:\n",
    "            t1=t\n",
    "        \n",
    "        elif t>temp:\n",
    "            t2=t\n",
    "            break\n",
    "    \n",
    "    y1=df.loc[t1] \n",
    "    y2=df.loc[t2]\n",
    "    \n",
    "    y= (y1)+(y2-y1)*(temp-t1)/(t2-t1)\n",
    "    \n",
    "    return y"
   ]
  },
  {
   "cell_type": "code",
   "execution_count": 8,
   "id": "e130b1ef",
   "metadata": {
    "ExecuteTime": {
     "end_time": "2022-05-01T18:44:34.756138Z",
     "start_time": "2022-05-01T18:44:34.712579Z"
    }
   },
   "outputs": [],
   "source": [
    "data_dict={\n",
    "    'h_f':[ None,None,None,0, 0 , -393520 , -241820,-110530,0],\n",
    "    298: [-11.554,-92.208,-103.762,0,0,0,0,0,0], \n",
    "    500: [-4.9252,-52.691,-57.616,5912,6088,8314,6920,5929,5883],\n",
    "    1000: [-0.366,-23.163,-23.529,21460,22707,33405,25978,21686,20686],\n",
    "    1200: [0.3108,-18.182,-17.871,28108,29765,44484,34476,28426,26794],\n",
    "    1400: [0.767,-14.609,-13.842,34936,36966,55907,43447,35338,33062],\n",
    "    1600: [1.091,-11.921,-10.83,41903,44279,67580,52844,42384,39522],\n",
    "    1800: [1.328,-9.826,-8.497,48982,51689,79442,62609,49522,46150],\n",
    "    2000: [1.51,-8.145,-6.635,56141,59199,91450,72689,56739,52932],\n",
    "    2100:[None,None,None,59399,62653,96882,76666,60052,55840],\n",
    "    2200: [1.648,-6.768,-5.12,62872,66304,102696,81345,63562,59065],\n",
    "    2300: [None,None,None,66345,69955,108511,86024,67072,62291],\n",
    "    2400: [1.759,-5.619,-3.86,69818,73607,114325,90703,70582,65516],\n",
    "    2500: [None,None,None,73291,77258,120140,95382,74093,68741],\n",
    "    2600: [1.847,-4.648,-2.801,None,None,None,None,None,None]\n",
    "}\n",
    "\n",
    "'CO + H2O ⇌ CO2 + H2 .1'\n",
    "\n",
    "'H2O ⇌ H2 + 1/2 O2 ...2'\n",
    "\n",
    "'CO2 ⇌ CO + 1/2 O2 ...3'\n",
    "\n",
    "ind=['Kp1','Kp2','Kp3','N2','O2','CO2','H2O','CO','H2']\n",
    "data=pd.DataFrame(data_dict,index=ind)\n",
    "\n",
    "\n",
    "\n",
    "data2=data.T\n",
    "data2[data2.columns[:3]]=data2[data2.columns[:3]].interpolate()"
   ]
  },
  {
   "cell_type": "code",
   "execution_count": 9,
   "id": "40c314b2",
   "metadata": {
    "ExecuteTime": {
     "end_time": "2022-05-01T18:44:35.726394Z",
     "start_time": "2022-05-01T18:44:35.710395Z"
    }
   },
   "outputs": [],
   "source": [
    "temps={}\n",
    "\n",
    "vals={kp1:['kp1'], kp2: ['kp2'] , a:['a'] , b:['b'] , d:['d'] , e:['e'] , f:['f'] , g:['g'] }"
   ]
  },
  {
   "cell_type": "code",
   "execution_count": 10,
   "id": "743bdd79",
   "metadata": {
    "ExecuteTime": {
     "end_time": "2022-05-01T18:44:42.145876Z",
     "start_time": "2022-05-01T18:44:42.026780Z"
    }
   },
   "outputs": [],
   "source": [
    "#Assume Temperature=2000 K\n",
    "t=2100\n",
    "#temps.append(t)\n",
    "#Getting properties at t\n",
    "\n",
    "if t in data2.index:                #making sure t doesn't need interpolation\n",
    "    props=data2.loc[t]\n",
    "\n",
    "else:\n",
    "    props=interpolate(t,data2)\n",
    "    \n",
    "    \n",
    "eq1=Eq(kp1,exp(props['Kp1']))\n",
    "eq2=Eq(kp2,exp(props['Kp2']))\n",
    "eq3=Eq(kp3,exp(props['Kp3']))    "
   ]
  },
  {
   "cell_type": "code",
   "execution_count": 11,
   "id": "69bfde0a",
   "metadata": {
    "ExecuteTime": {
     "end_time": "2022-05-01T18:44:59.138010Z",
     "start_time": "2022-05-01T18:44:42.662556Z"
    }
   },
   "outputs": [],
   "source": [
    "n_e=solve(eq3,e)[0]\n",
    "new_a=[]\n",
    "for i in solve(eq2.subs(e,n_e)):\n",
    "    if i<3.6:\n",
    "        new_a.append(i)\n",
    "if len(new_a)==1:\n",
    "    new_a=new_a[0]"
   ]
  },
  {
   "cell_type": "code",
   "execution_count": 12,
   "id": "c50b8e20",
   "metadata": {
    "ExecuteTime": {
     "end_time": "2022-05-01T18:44:59.260864Z",
     "start_time": "2022-05-01T18:44:59.138010Z"
    }
   },
   "outputs": [
    {
     "name": "stdout",
     "output_type": "stream",
     "text": [
      "kp1 :  0.206181176213425\n",
      "kp2 :  0.000577674497785665\n",
      "a :  3.53149161915489\n",
      "b :  0.0685083808451137\n",
      "d :  4.48207275975159\n",
      "e :  0.0179272402484134\n",
      "f :  0.693217810546764\n",
      "g :  24.4400000000000\n"
     ]
    }
   ],
   "source": [
    "for i in vals.keys():\n",
    "    vals[i].append(i.subs({a:new_a,e:n_e.subs(a,new_a)}))\n",
    "    print(vals[i][0],': ',i.subs({a:new_a,e:n_e.subs(a,new_a)}))"
   ]
  },
  {
   "cell_type": "markdown",
   "id": "68637253",
   "metadata": {},
   "source": [
    "<h3>\n",
    "Q = H<sub>P</sub> - H<sub>R</sub> = 0\n",
    "\n",
    "H<sub>P</sub> = H<sub>R</sub>\n",
    "</h3>    "
   ]
  },
  {
   "cell_type": "code",
   "execution_count": 13,
   "id": "44c8af19",
   "metadata": {
    "ExecuteTime": {
     "end_time": "2022-05-01T18:44:59.276863Z",
     "start_time": "2022-05-01T18:44:59.260864Z"
    }
   },
   "outputs": [
    {
     "data": {
      "text/plain": [
       "{'H2': 0, 'N2': 0, 'O2': 0, 'CO': -110530, 'CO2': -393520, 'H2O': -241820}"
      ]
     },
     "execution_count": 13,
     "metadata": {},
     "output_type": "execute_result"
    }
   ],
   "source": [
    "h_f={'H2' : 0 , 'N2' : 0, 'O2' : 0 , 'CO' : -110530 , 'CO2' : -393520 , 'H2O' : -241820}\n",
    "h_f"
   ]
  },
  {
   "cell_type": "code",
   "execution_count": 14,
   "id": "1b2ffa5c",
   "metadata": {
    "ExecuteTime": {
     "end_time": "2022-05-01T18:44:59.292862Z",
     "start_time": "2022-05-01T18:44:59.276863Z"
    }
   },
   "outputs": [],
   "source": [
    "h_f_C4H10=-103850\n",
    "\n",
    "phi=0.9"
   ]
  },
  {
   "cell_type": "code",
   "execution_count": 15,
   "id": "887404d6",
   "metadata": {
    "ExecuteTime": {
     "end_time": "2022-05-01T18:44:59.361532Z",
     "start_time": "2022-05-01T18:44:59.292862Z"
    }
   },
   "outputs": [],
   "source": [
    "H_R=phi*(h_f_C4H10) + 6.5*(data2.loc['h_f']['O2']+data2.loc[298]['O2']) + g*(data2.loc['h_f']['N2']+data2.loc[298]['N2'])\n",
    "\n",
    "H_P=(a*(data2.loc['h_f']['CO2']+props['CO2']) + b*(data2.loc['h_f']['CO']+props['CO']) +d*(data2.loc['h_f']['H2O']+props['H2O']) +e*(data2.loc['h_f']['H2']+props['H2']) + f*(data2.loc['h_f']['O2']+props['O2']) + g*(data2.loc['h_f']['N2']+props['N2'])).subs({a:1,e:1})\n",
    "\n",
    "Q=H_P - H_R \n",
    "\n",
    "temps[t]=Q"
   ]
  },
  {
   "cell_type": "code",
   "execution_count": 16,
   "id": "47cf29b4",
   "metadata": {
    "ExecuteTime": {
     "end_time": "2022-05-01T18:45:00.459534Z",
     "start_time": "2022-05-01T18:45:00.417357Z"
    }
   },
   "outputs": [
    {
     "data": {
      "text/plain": [
       "{2100: 748596.610000000}"
      ]
     },
     "execution_count": 16,
     "metadata": {},
     "output_type": "execute_result"
    }
   ],
   "source": [
    "temps"
   ]
  },
  {
   "cell_type": "code",
   "execution_count": 16,
   "id": "4656579c",
   "metadata": {
    "ExecuteTime": {
     "end_time": "2022-04-28T01:48:21.715132Z",
     "start_time": "2022-04-28T01:48:21.704934Z"
    }
   },
   "outputs": [],
   "source": [
    "q_pos=1000000000\n",
    "q_neg=-1000000000\n",
    "if Q>0: #decrease Temperature\n",
    "    t-=100\n",
    "    q_pos=Q\n",
    "else: #higher Temperature\n",
    "    t+=50\n",
    "    q_neg=Q"
   ]
  },
  {
   "cell_type": "code",
   "execution_count": null,
   "id": "a6d37345",
   "metadata": {},
   "outputs": [],
   "source": [
    "counter=0"
   ]
  },
  {
   "cell_type": "code",
   "execution_count": null,
   "id": "739db4a6",
   "metadata": {},
   "outputs": [],
   "source": [
    "while counter<20 :          \n",
    "    \n",
    "    #Getting properties at t\n",
    "    \n",
    "    if t in data2.index:                #making sure t doesn't need interpolation\n",
    "        props=data2.loc[t]\n",
    "\n",
    "    else:\n",
    "        props=interpolate(t,data2)\n",
    "\n",
    "\n",
    "    eq1=Eq(kp1,exp(props['Kp1']))\n",
    "    eq2=Eq(kp2,exp(props['Kp2']))\n",
    "    eq3=Eq(kp3,exp(props['Kp3']))\n",
    "\n",
    "\n",
    "    n_e=solve(eq3,e)[0]\n",
    "    new_a=[]\n",
    "    for i in solve(eq2.subs(e,n_e)):\n",
    "        if i<3.6:\n",
    "            new_a.append(i)\n",
    "    if len(new_a)==1:\n",
    "        new_a=new_a[0]\n",
    "\n",
    "    for i in vals.keys():\n",
    "        vals[i].append(i.subs({a:new_a,e:n_e.subs(a,new_a)}))\n",
    "        print(vals[i][0],': ',i.subs({a:new_a,e:n_e.subs(a,new_a)}))\n",
    "    print('')    \n",
    "    H_P=(a*(data2.loc['h_f']['CO2']+props['CO2']) + b*(data2.loc['h_f']['CO']+props['CO']) +d*(data2.loc['h_f']['H2O']+props['H2O']) +e*(data2.loc['h_f']['H2']+props['H2']) + f*(data2.loc['h_f']['O2']+props['O2']) + g*(data2.loc['h_f']['N2']+props['N2'])).subs({a:1,e:1})\n",
    "\n",
    "    Q=H_P - H_R\n",
    "    temps[t]=Q\n",
    "    \n",
    "    counter+=1    \n",
    "    if Q>0 and Q<q_pos: #decrease Temperature\n",
    "        t-=100\n",
    "        q_pos=Q\n",
    "    elif Q<0 and Q>q_neg: #higher Temperature\n",
    "        t+=50\n",
    "        q_neg=Q\n",
    "    \n",
    "    if q_pos!=1000000000 and q_neg!=-1000000000:\n",
    "        t=(get_key(q_neg,temps))+(-q_neg)*(get_key(q_pos,temps)-get_key(q_neg,temps))/(q_pos-q_neg)\n",
    "\n",
    "    "
   ]
  },
  {
   "cell_type": "code",
   "execution_count": null,
   "id": "1be7bfd9",
   "metadata": {},
   "outputs": [],
   "source": []
  },
  {
   "cell_type": "code",
   "execution_count": null,
   "id": "4b7b19a7",
   "metadata": {},
   "outputs": [],
   "source": []
  },
  {
   "cell_type": "code",
   "execution_count": null,
   "id": "66414967",
   "metadata": {},
   "outputs": [],
   "source": []
  }
 ],
 "metadata": {
  "kernelspec": {
   "display_name": "Python 3 (ipykernel)",
   "language": "python",
   "name": "python3"
  },
  "language_info": {
   "codemirror_mode": {
    "name": "ipython",
    "version": 3
   },
   "file_extension": ".py",
   "mimetype": "text/x-python",
   "name": "python",
   "nbconvert_exporter": "python",
   "pygments_lexer": "ipython3",
   "version": "3.9.6"
  }
 },
 "nbformat": 4,
 "nbformat_minor": 5
}
