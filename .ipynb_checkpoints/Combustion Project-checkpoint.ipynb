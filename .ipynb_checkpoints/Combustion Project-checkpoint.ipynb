{
 "cells": [
  {
   "cell_type": "markdown",
   "id": "5acb0e86",
   "metadata": {},
   "source": [
    "<h3>\n",
    "ΦC<sub>4</sub>H<sub>10</sub> + (6.5)(O<sub>2</sub> + 3.76 N<sub>2</sub>\n",
    ") → a CO<sub>2</sub>+ b CO + d H<sub>2</sub>O + e H<sub>2</sub>+ f O<sub>2</sub>+g N<sub>2</sub>\n",
    "</h3>\n",
    "<hr>\n",
    "P = 1 atm<br>\n",
    "T = 298.15 K<br>\n",
    "Φ=0.9"
   ]
  },
  {
   "cell_type": "markdown",
   "id": "9cfc956f",
   "metadata": {},
   "source": [
    "<h4>Equations:</h4>\n",
    "Carbon Balance:\n",
    "a+b=3.6<br>\n",
    "b=3.6-a\n",
    "\n",
    "Hydrogen Balance:\n",
    "2*(d+e)=9<br>\n",
    "d=4.5-e\n",
    "\n",
    "Oxygen Balance: \n",
    "2(a+f)+b+d=13<br>\n",
    "2(a+f)+(3.6-a)+(4.5-e)=13<br>\n",
    "a+2*f-e=4.9<br>\n",
    "f=2.45- <sup>a</sup>&frasl;<sub>2</sub> + <sup>e</sup>&frasl;<sub>2</sub>\n",
    "\n",
    "Nitrogen Balance:\n",
    "g=24.44"
   ]
  },
  {
   "cell_type": "markdown",
   "id": "4072c9d2",
   "metadata": {},
   "source": [
    "<h3>\n",
    "0.9C<sub>4</sub>H<sub>10</sub> + (6.5)(O<sub>2</sub> + 3.76 N<sub>2</sub>\n",
    ") → a CO<sub>2</sub>+ (3.6-a) CO + (4.5-e) H<sub>2</sub>O + e H<sub>2</sub>+ (2.45- <sup>a</sup>&frasl;<sub>2</sub> + <sup>e</sup>&frasl;<sub>2</sub>) O<sub>2</sub>+24.44 N<sub>2</sub>\n",
    "</h3>"
   ]
  },
  {
   "cell_type": "markdown",
   "id": "28f227f3",
   "metadata": {
    "ExecuteTime": {
     "end_time": "2022-03-10T21:44:38.385711Z",
     "start_time": "2022-03-10T21:44:38.365723Z"
    }
   },
   "source": [
    "total number of moles N<sub>T</sub><br>\n",
    "= a+(3.6-a)+(4.5-e)+e+(2.45- <sup>a</sup>&frasl;<sub>2</sub> + <sup>e</sup>&frasl;<sub>2</sub>)+24.44<br>\n",
    "\n",
    "=34.99- <sup>a</sup>&frasl;<sub>2</sub> + <sup>e</sup>&frasl;<sub>2</sub>\n"
   ]
  },
  {
   "cell_type": "markdown",
   "id": "1f6fe6b9",
   "metadata": {},
   "source": [
    "Equations:\n",
    "\n",
    "H<sub>2</sub>O ⇌ H<sub>2</sub> + <sup>1</sup>&frasl;<sub>2</sub> O<sub>2</sub> .............1\n",
    "\n",
    "CO<sub>2</sub> ⇌ CO + <sup>1</sup>&frasl;<sub>2</sub> O<sub>2</sub>  ............2"
   ]
  },
  {
   "cell_type": "code",
   "execution_count": 1,
   "id": "e55bd89f",
   "metadata": {
    "ExecuteTime": {
     "end_time": "2022-05-25T15:56:49.476901Z",
     "start_time": "2022-05-25T15:56:45.116503Z"
    }
   },
   "outputs": [],
   "source": [
    "from my_package import *"
   ]
  },
  {
   "cell_type": "code",
   "execution_count": 2,
   "id": "64b3ac75",
   "metadata": {
    "ExecuteTime": {
     "end_time": "2022-05-25T15:56:49.506885Z",
     "start_time": "2022-05-25T15:56:49.485897Z"
    }
   },
   "outputs": [],
   "source": [
    "a,b,d,e,f,g=symbols('a b d:g',real=True) #assigning variables to the product's coefficients\n",
    "\n",
    "#Defining carbon, hydrogen, and Φ values  \n",
    "x=4 \n",
    "y=10\n",
    "phi=0.9"
   ]
  },
  {
   "cell_type": "markdown",
   "id": "834282ea",
   "metadata": {},
   "source": [
    "<h4>Mass Balance:</h4>"
   ]
  },
  {
   "cell_type": "code",
   "execution_count": 3,
   "id": "c19a670a",
   "metadata": {
    "ExecuteTime": {
     "end_time": "2022-05-25T15:56:50.365336Z",
     "start_time": "2022-05-25T15:56:49.510883Z"
    }
   },
   "outputs": [],
   "source": [
    "#Mass balancing equations\n",
    "\n",
    "#All variables are obtained in terms of either 'a' or 'e'  \n",
    "\n",
    "#Carbon balance:\n",
    "c_eqn=Eq(a+b,phi*x)\n",
    "b=(solve(c_eqn,b)[0])\n",
    "\n",
    "#Hydrogen balance:\n",
    "h_eqn=Eq(2*d+2*e,phi*y)\n",
    "d=(solve(h_eqn,d)[0])\n",
    "\n",
    "#Oxygen balance:\n",
    "o_eqn=Eq(2*a+b+d+2*f,(x+y/4)*2)\n",
    "f=(solve(o_eqn,f)[0])\n",
    "\n",
    "#Nitrogen balance:\n",
    "n_eqn=Eq(2*g,(x+y/4)*2*3.76)\n",
    "g=(solve(n_eqn,g)[0])\n",
    "\n",
    "N_total=a+b+d+e+f+g"
   ]
  },
  {
   "cell_type": "markdown",
   "id": "af1b89cc",
   "metadata": {
    "ExecuteTime": {
     "end_time": "2022-04-23T16:03:19.079554Z",
     "start_time": "2022-04-23T16:03:19.047551Z"
    }
   },
   "source": [
    "<hr>\n",
    "H<sub>2</sub>O ⇌ H<sub>2</sub> + <sup>1</sup>&frasl;<sub>2</sub> O<sub>2</sub> .............1"
   ]
  },
  {
   "cell_type": "code",
   "execution_count": 4,
   "id": "70c57f6c",
   "metadata": {
    "ExecuteTime": {
     "end_time": "2022-05-25T15:56:50.428297Z",
     "start_time": "2022-05-25T15:56:50.370313Z"
    }
   },
   "outputs": [
    {
     "data": {
      "text/latex": [
       "$\\displaystyle \\frac{1.56524758424985 e \\left(- 0.204081632653061 a + 0.204081632653061 e + 1\\right)^{0.5} \\left(\\frac{1}{- 0.5 a + 0.5 e + 34.99}\\right)^{0.5}}{4.5 - e}$"
      ],
      "text/plain": [
       "1.56524758424985*e*(-0.204081632653061*a + 0.204081632653061*e + 1)**0.5*(1/(-0.5*a + 0.5*e + 34.99))**0.5/(4.5 - e)"
      ]
     },
     "execution_count": 4,
     "metadata": {},
     "output_type": "execute_result"
    }
   ],
   "source": [
    "kp1=e*f**0.5/(d) * (1/(N_total))**(0.5) \n",
    "kp1"
   ]
  },
  {
   "cell_type": "markdown",
   "id": "552d0803",
   "metadata": {
    "ExecuteTime": {
     "end_time": "2022-04-23T16:03:32.263291Z",
     "start_time": "2022-04-23T16:03:32.247666Z"
    }
   },
   "source": [
    "<br>\n",
    "CO<sub>2</sub> ⇌ CO + <sup>1</sup>&frasl;<sub>2</sub> O<sub>2</sub>  ............2"
   ]
  },
  {
   "cell_type": "code",
   "execution_count": 5,
   "id": "53af335e",
   "metadata": {
    "ExecuteTime": {
     "end_time": "2022-05-25T15:56:50.474256Z",
     "start_time": "2022-05-25T15:56:50.430279Z"
    }
   },
   "outputs": [
    {
     "data": {
      "text/latex": [
       "$\\displaystyle \\frac{1.56524758424985 \\cdot \\left(3.6 - a\\right) \\left(- 0.204081632653061 a + 0.204081632653061 e + 1\\right)^{0.5} \\left(\\frac{1}{- 0.5 a + 0.5 e + 34.99}\\right)^{0.5}}{a}$"
      ],
      "text/plain": [
       "1.56524758424985*(3.6 - a)*(-0.204081632653061*a + 0.204081632653061*e + 1)**0.5*(1/(-0.5*a + 0.5*e + 34.99))**0.5/a"
      ]
     },
     "execution_count": 5,
     "metadata": {},
     "output_type": "execute_result"
    }
   ],
   "source": [
    "kp2=b*f**0.5/(a)*(1/N_total)**(1+0.5-1)\n",
    "kp2"
   ]
  },
  {
   "cell_type": "markdown",
   "id": "5aab206e",
   "metadata": {},
   "source": [
    "<hr>"
   ]
  },
  {
   "cell_type": "code",
   "execution_count": 6,
   "id": "40c314b2",
   "metadata": {
    "ExecuteTime": {
     "end_time": "2022-05-25T15:56:50.490246Z",
     "start_time": "2022-05-25T15:56:50.477254Z"
    }
   },
   "outputs": [],
   "source": [
    "#Variables to hold values for each iteration\n",
    "\n",
    "temps={} #holds each temperature with its corresponding Q\n",
    "\n",
    "composition_values={a:['a'] , b:['b'] , d:['d'] , e:['e'] , f:['f'] , g:['g'] } #holds composition values "
   ]
  },
  {
   "cell_type": "code",
   "execution_count": 7,
   "id": "743bdd79",
   "metadata": {
    "ExecuteTime": {
     "end_time": "2022-05-25T15:56:51.409471Z",
     "start_time": "2022-05-25T15:56:51.355503Z"
    }
   },
   "outputs": [],
   "source": [
    "#Assume starting Temperature=1800 K\n",
    "t=1800\n",
    "\n",
    "\n",
    "#Getting properties and equations at t\n",
    "\n",
    "if t in data.index:   #making sure t doesn't need interpolation\n",
    "    props=data.loc[t]\n",
    "\n",
    "else:\n",
    "    props=interpolate(t,data)\n",
    "    \n",
    "    \n",
    "eq1=Eq(kp1,exp(props['Kp1']))\n",
    "eq2=Eq(kp2,exp(props['Kp2']))"
   ]
  },
  {
   "cell_type": "code",
   "execution_count": 8,
   "id": "caa38a3f",
   "metadata": {
    "ExecuteTime": {
     "end_time": "2022-05-25T15:57:03.412612Z",
     "start_time": "2022-05-25T15:56:51.864211Z"
    }
   },
   "outputs": [],
   "source": [
    "e2=solve(eq2,e)[0] #solving for e in equation 2\n",
    "\n",
    "eqn=eq1.subs({e:e2}) #substituting in equation 1\n",
    "\n",
    "a1=solve(eqn)\n",
    "for i in a1:\n",
    "    if i >0 and i <3.6: #since equation has multiple roots, conditions for a are added to decide value to be taken\n",
    "        a1=i\n",
    "        \n",
    "e1=e2.subs(a,a1)  #obtaining e by substituting value of a "
   ]
  },
  {
   "cell_type": "code",
   "execution_count": 9,
   "id": "e151e402",
   "metadata": {
    "ExecuteTime": {
     "end_time": "2022-05-25T15:57:03.444591Z",
     "start_time": "2022-05-25T15:57:03.418608Z"
    }
   },
   "outputs": [],
   "source": [
    "#obtaining the rest of the values:\n",
    "\n",
    "for i in composition_values.keys(): \n",
    "    composition_values[i].append(i.subs({a:a1,e:e1}))"
   ]
  },
  {
   "cell_type": "markdown",
   "id": "68637253",
   "metadata": {},
   "source": [
    "<hr>\n",
    "<h3>Q = H<sub>P</sub> - H<sub>R</sub> = 0"
   ]
  },
  {
   "cell_type": "code",
   "execution_count": 10,
   "id": "e7dd900b",
   "metadata": {
    "ExecuteTime": {
     "end_time": "2022-05-25T15:57:03.475575Z",
     "start_time": "2022-05-25T15:57:03.451588Z"
    }
   },
   "outputs": [],
   "source": [
    "#defining hf of the fuel \n",
    "h_f_C4H10=-126150"
   ]
  },
  {
   "cell_type": "markdown",
   "id": "f12991be",
   "metadata": {},
   "source": [
    "<b>Calculating H<sub>R</sub>:</b>"
   ]
  },
  {
   "cell_type": "code",
   "execution_count": 11,
   "id": "d6d9e10a",
   "metadata": {
    "ExecuteTime": {
     "end_time": "2022-05-25T15:57:03.505558Z",
     "start_time": "2022-05-25T15:57:03.481587Z"
    }
   },
   "outputs": [],
   "source": [
    "H_R=phi*(h_f_C4H10) + 6.5*(data.loc['h_f']['O2']+data.loc[298]['O2']) + g*(data.loc['h_f']['N2']+data.loc[298]['N2'])"
   ]
  },
  {
   "cell_type": "markdown",
   "id": "f4d90542",
   "metadata": {},
   "source": [
    "<b>Calculating H<sub>P</sub>:</b>"
   ]
  },
  {
   "cell_type": "code",
   "execution_count": 12,
   "id": "d90d66db",
   "metadata": {
    "ExecuteTime": {
     "end_time": "2022-05-25T15:57:03.581513Z",
     "start_time": "2022-05-25T15:57:03.509555Z"
    }
   },
   "outputs": [],
   "source": [
    "H_P=a*(data.loc['h_f']['CO2']+props['CO2']) + b*(data.loc['h_f']['CO']+props['CO']) +d*(data.loc['h_f']['H2O']+props['H2O']) +e*(data.loc['h_f']['H2']+props['H2']) + f*(data.loc['h_f']['O2']+props['O2']) + g*(data.loc['h_f']['N2']+props['N2'])"
   ]
  },
  {
   "cell_type": "code",
   "execution_count": 13,
   "id": "d9ec8ac9",
   "metadata": {
    "ExecuteTime": {
     "end_time": "2022-05-25T15:57:03.611504Z",
     "start_time": "2022-05-25T15:57:03.586512Z"
    }
   },
   "outputs": [],
   "source": [
    "Q=H_P.subs({a:a1,e:e1}) - H_R \n",
    "\n",
    "temps[t]=Q #adding Q to its corresponding temperature"
   ]
  },
  {
   "cell_type": "code",
   "execution_count": 14,
   "id": "2279fa1c",
   "metadata": {
    "ExecuteTime": {
     "end_time": "2022-05-25T15:57:03.627502Z",
     "start_time": "2022-05-25T15:57:03.617493Z"
    }
   },
   "outputs": [],
   "source": [
    "#depending on either Q is positive or negative to increase or decrease the temperature\n",
    "q_pos=None\n",
    "q_neg=None\n",
    "\n",
    "if Q>0: #decrease Temperature\n",
    "    t-=100\n",
    "    q_pos=Q\n",
    "else: #higher Temperature\n",
    "    t+=50\n",
    "    q_neg=Q"
   ]
  },
  {
   "cell_type": "markdown",
   "id": "fe2ea1e1",
   "metadata": {},
   "source": [
    "<h3>Using the newly obtained temperature, repeat the previous steps until Q is almost 0</h3>"
   ]
  },
  {
   "cell_type": "code",
   "execution_count": 15,
   "id": "6fae7fea",
   "metadata": {
    "ExecuteTime": {
     "end_time": "2022-05-25T15:59:04.931157Z",
     "start_time": "2022-05-25T15:57:03.633486Z"
    }
   },
   "outputs": [],
   "source": [
    "while abs(Q)>0.1 :          \n",
    "    \n",
    "    #Getting properties at t\n",
    "    \n",
    "    if t in data.index:                #making sure t doesn't need interpolation\n",
    "        props=data.loc[t]\n",
    "\n",
    "    else:\n",
    "        props=interpolate(t,data)\n",
    "\n",
    "    \n",
    "    \n",
    "    eq1=Eq(kp1,exp(props['Kp1']))\n",
    "    eq2=Eq(kp2,exp(props['Kp2']))    \n",
    "\n",
    "    e2=solve(eq2,e)[0]\n",
    "    eqn=eq1.subs({e:e2})\n",
    "    a1=solve(eqn)\n",
    "    \n",
    "    for i in a1:\n",
    "        if i >0 and i <3.6:\n",
    "            a1=i\n",
    "    e1=e2.subs(a,a1)  \n",
    "    \n",
    "    \n",
    "    for i in composition_values.keys():\n",
    "        composition_values[i].append(i.subs({a:a1,e:e1}))\n",
    "    \n",
    "    \n",
    "    #Calculating new Q\n",
    "    \n",
    "    H_P=a*(data.loc['h_f']['CO2']+props['CO2']) + b*(data.loc['h_f']['CO']+props['CO']) +d*(data.loc['h_f']['H2O']+props['H2O']) +e*(data.loc['h_f']['H2']+props['H2']) + f*(data.loc['h_f']['O2']+props['O2']) + g*(data.loc['h_f']['N2']+props['N2'])\n",
    "    \n",
    "    Q=H_P.subs({a:a1,e:e1}) - H_R \n",
    "    \n",
    "    temps[t]=Q\n",
    "    \n",
    "    \n",
    "    while not q_pos:\n",
    "        if Q>0:\n",
    "            q_pos=Q    #since q_neg is already obtained at the first iteration then once q_pos is obtained we could interpolate\n",
    "            \n",
    "        else:\n",
    "            q_neg=Q\n",
    "            t+=50\n",
    "            break\n",
    "      \n",
    "    \n",
    "    #in case both positive and negative values of Q are obtained then the a.f.t lies between those temperatures         \n",
    "    if q_neg and q_pos: \n",
    "        if Q>0 and Q<q_pos: \n",
    "            q_pos=Q\n",
    "        elif Q<0 and Q>q_neg: \n",
    "            q_neg=Q\n",
    "        t=(get_key(q_neg,temps))+(-q_neg)*(get_key(q_pos,temps)-get_key(q_neg,temps))/(q_pos-q_neg)\n",
    "\n",
    "    "
   ]
  },
  {
   "cell_type": "markdown",
   "id": "9f36cf36",
   "metadata": {},
   "source": [
    "<h3>Formating the results</h3>"
   ]
  },
  {
   "cell_type": "code",
   "execution_count": 93,
   "id": "49d27b65",
   "metadata": {
    "ExecuteTime": {
     "end_time": "2022-05-25T16:30:25.634576Z",
     "start_time": "2022-05-25T16:30:25.621587Z"
    }
   },
   "outputs": [],
   "source": [
    "headings=['CO2','CO','H2O','H2','O2','N2','Q']\n",
    "\n",
    "content=[i[1:] for i in composition_values.values()]\n",
    "content.append(list(temps.values()))\n",
    "content=np.round(np.array(content,dtype='float64').T,5)\n",
    "\n",
    "\n",
    "ind=np.round(np.array(list(temps.keys()),dtype='float64'),4)"
   ]
  },
  {
   "cell_type": "code",
   "execution_count": 94,
   "id": "fb363460",
   "metadata": {
    "ExecuteTime": {
     "end_time": "2022-05-25T16:30:29.013829Z",
     "start_time": "2022-05-25T16:30:28.968854Z"
    }
   },
   "outputs": [
    {
     "data": {
      "text/html": [
       "<div>\n",
       "<style scoped>\n",
       "    .dataframe tbody tr th:only-of-type {\n",
       "        vertical-align: middle;\n",
       "    }\n",
       "\n",
       "    .dataframe tbody tr th {\n",
       "        vertical-align: top;\n",
       "    }\n",
       "\n",
       "    .dataframe thead th {\n",
       "        text-align: right;\n",
       "    }\n",
       "</style>\n",
       "<table border=\"1\" class=\"dataframe\">\n",
       "  <thead>\n",
       "    <tr style=\"text-align: right;\">\n",
       "      <th></th>\n",
       "      <th>CO2</th>\n",
       "      <th>CO</th>\n",
       "      <th>H2O</th>\n",
       "      <th>H2</th>\n",
       "      <th>O2</th>\n",
       "      <th>N2</th>\n",
       "      <th>Q</th>\n",
       "    </tr>\n",
       "    <tr>\n",
       "      <th>Temperature</th>\n",
       "      <th></th>\n",
       "      <th></th>\n",
       "      <th></th>\n",
       "      <th></th>\n",
       "      <th></th>\n",
       "      <th></th>\n",
       "      <th></th>\n",
       "    </tr>\n",
       "  </thead>\n",
       "  <tbody>\n",
       "    <tr>\n",
       "      <th>1800.0000</th>\n",
       "      <td>3.59477</td>\n",
       "      <td>0.00523</td>\n",
       "      <td>4.49827</td>\n",
       "      <td>0.00173</td>\n",
       "      <td>0.65348</td>\n",
       "      <td>24.44</td>\n",
       "      <td>-590983.94020</td>\n",
       "    </tr>\n",
       "    <tr>\n",
       "      <th>1850.0000</th>\n",
       "      <td>3.59169</td>\n",
       "      <td>0.00831</td>\n",
       "      <td>4.49737</td>\n",
       "      <td>0.00263</td>\n",
       "      <td>0.65547</td>\n",
       "      <td>24.44</td>\n",
       "      <td>-522791.49911</td>\n",
       "    </tr>\n",
       "    <tr>\n",
       "      <th>1900.0000</th>\n",
       "      <td>3.58681</td>\n",
       "      <td>0.01319</td>\n",
       "      <td>4.49600</td>\n",
       "      <td>0.00400</td>\n",
       "      <td>0.65859</td>\n",
       "      <td>24.44</td>\n",
       "      <td>-453983.54853</td>\n",
       "    </tr>\n",
       "    <tr>\n",
       "      <th>1950.0000</th>\n",
       "      <td>3.57912</td>\n",
       "      <td>0.02088</td>\n",
       "      <td>4.49394</td>\n",
       "      <td>0.00606</td>\n",
       "      <td>0.66347</td>\n",
       "      <td>24.44</td>\n",
       "      <td>-384218.05101</td>\n",
       "    </tr>\n",
       "    <tr>\n",
       "      <th>2000.0000</th>\n",
       "      <td>3.56704</td>\n",
       "      <td>0.03296</td>\n",
       "      <td>4.49083</td>\n",
       "      <td>0.00917</td>\n",
       "      <td>0.67107</td>\n",
       "      <td>24.44</td>\n",
       "      <td>-312974.33343</td>\n",
       "    </tr>\n",
       "    <tr>\n",
       "      <th>2050.0000</th>\n",
       "      <td>3.55237</td>\n",
       "      <td>0.04763</td>\n",
       "      <td>4.48716</td>\n",
       "      <td>0.01284</td>\n",
       "      <td>0.68023</td>\n",
       "      <td>24.44</td>\n",
       "      <td>-248320.01850</td>\n",
       "    </tr>\n",
       "    <tr>\n",
       "      <th>2100.0000</th>\n",
       "      <td>3.53149</td>\n",
       "      <td>0.06851</td>\n",
       "      <td>4.48207</td>\n",
       "      <td>0.01793</td>\n",
       "      <td>0.69322</td>\n",
       "      <td>24.44</td>\n",
       "      <td>-181585.22896</td>\n",
       "    </tr>\n",
       "    <tr>\n",
       "      <th>2150.0000</th>\n",
       "      <td>3.50203</td>\n",
       "      <td>0.09797</td>\n",
       "      <td>4.47506</td>\n",
       "      <td>0.02494</td>\n",
       "      <td>0.71145</td>\n",
       "      <td>24.44</td>\n",
       "      <td>-107041.92454</td>\n",
       "    </tr>\n",
       "    <tr>\n",
       "      <th>2200.0000</th>\n",
       "      <td>3.46100</td>\n",
       "      <td>0.13900</td>\n",
       "      <td>4.46549</td>\n",
       "      <td>0.03451</td>\n",
       "      <td>0.73676</td>\n",
       "      <td>24.44</td>\n",
       "      <td>-28653.93418</td>\n",
       "    </tr>\n",
       "    <tr>\n",
       "      <th>2250.0000</th>\n",
       "      <td>3.41544</td>\n",
       "      <td>0.18456</td>\n",
       "      <td>4.45494</td>\n",
       "      <td>0.04506</td>\n",
       "      <td>0.76481</td>\n",
       "      <td>24.44</td>\n",
       "      <td>51216.24816</td>\n",
       "    </tr>\n",
       "    <tr>\n",
       "      <th>2217.9378</th>\n",
       "      <td>3.44598</td>\n",
       "      <td>0.15402</td>\n",
       "      <td>4.46200</td>\n",
       "      <td>0.03800</td>\n",
       "      <td>0.74601</td>\n",
       "      <td>24.44</td>\n",
       "      <td>-442.16617</td>\n",
       "    </tr>\n",
       "    <tr>\n",
       "      <th>2218.2123</th>\n",
       "      <td>3.44574</td>\n",
       "      <td>0.15426</td>\n",
       "      <td>4.46195</td>\n",
       "      <td>0.03805</td>\n",
       "      <td>0.74615</td>\n",
       "      <td>24.44</td>\n",
       "      <td>-6.87660</td>\n",
       "    </tr>\n",
       "    <tr>\n",
       "      <th>2218.2165</th>\n",
       "      <td>3.44574</td>\n",
       "      <td>0.15426</td>\n",
       "      <td>4.46195</td>\n",
       "      <td>0.03805</td>\n",
       "      <td>0.74616</td>\n",
       "      <td>24.44</td>\n",
       "      <td>-0.10696</td>\n",
       "    </tr>\n",
       "    <tr>\n",
       "      <th>2218.2166</th>\n",
       "      <td>3.44574</td>\n",
       "      <td>0.15426</td>\n",
       "      <td>4.46195</td>\n",
       "      <td>0.03805</td>\n",
       "      <td>0.74616</td>\n",
       "      <td>24.44</td>\n",
       "      <td>-0.00166</td>\n",
       "    </tr>\n",
       "  </tbody>\n",
       "</table>\n",
       "</div>"
      ],
      "text/plain": [
       "                 CO2       CO      H2O       H2       O2     N2             Q\n",
       "Temperature                                                                  \n",
       "1800.0000    3.59477  0.00523  4.49827  0.00173  0.65348  24.44 -590983.94020\n",
       "1850.0000    3.59169  0.00831  4.49737  0.00263  0.65547  24.44 -522791.49911\n",
       "1900.0000    3.58681  0.01319  4.49600  0.00400  0.65859  24.44 -453983.54853\n",
       "1950.0000    3.57912  0.02088  4.49394  0.00606  0.66347  24.44 -384218.05101\n",
       "2000.0000    3.56704  0.03296  4.49083  0.00917  0.67107  24.44 -312974.33343\n",
       "2050.0000    3.55237  0.04763  4.48716  0.01284  0.68023  24.44 -248320.01850\n",
       "2100.0000    3.53149  0.06851  4.48207  0.01793  0.69322  24.44 -181585.22896\n",
       "2150.0000    3.50203  0.09797  4.47506  0.02494  0.71145  24.44 -107041.92454\n",
       "2200.0000    3.46100  0.13900  4.46549  0.03451  0.73676  24.44  -28653.93418\n",
       "2250.0000    3.41544  0.18456  4.45494  0.04506  0.76481  24.44   51216.24816\n",
       "2217.9378    3.44598  0.15402  4.46200  0.03800  0.74601  24.44    -442.16617\n",
       "2218.2123    3.44574  0.15426  4.46195  0.03805  0.74615  24.44      -6.87660\n",
       "2218.2165    3.44574  0.15426  4.46195  0.03805  0.74616  24.44      -0.10696\n",
       "2218.2166    3.44574  0.15426  4.46195  0.03805  0.74616  24.44      -0.00166"
      ]
     },
     "execution_count": 94,
     "metadata": {},
     "output_type": "execute_result"
    }
   ],
   "source": [
    "df=pd.DataFrame(content,columns=headings)\n",
    "df['Temperature']=ind\n",
    "df.set_index('Temperature',inplace=True)\n",
    "df"
   ]
  },
  {
   "cell_type": "code",
   "execution_count": 145,
   "id": "9e271cf4",
   "metadata": {
    "ExecuteTime": {
     "end_time": "2022-05-25T00:02:33.100577Z",
     "start_time": "2022-05-25T00:02:33.092578Z"
    }
   },
   "outputs": [
    {
     "name": "stdout",
     "output_type": "stream",
     "text": [
      "adiabatic flame temperature= 2218.2166\n",
      "CO2= 3.4457\n",
      "CO= 0.1543\n",
      "H2O= 4.4619\n",
      "H2= 0.0381\n",
      "O2= 0.7462\n",
      "N2= 24.4400\n",
      "Q= -0.0017\n"
     ]
    }
   ],
   "source": [
    "print(f'adiabatic flame temperature= {ind[-1]}')\n",
    "for i in df.columns:\n",
    "    print(f'{i}= {df[i].iloc[-1]:.4f}')\n",
    "    "
   ]
  },
  {
   "cell_type": "markdown",
   "id": "e6228f61",
   "metadata": {
    "ExecuteTime": {
     "end_time": "2022-05-25T00:21:17.958624Z",
     "start_time": "2022-05-25T00:21:17.934621Z"
    }
   },
   "source": [
    "<h3>Plotting Graphs</h3>"
   ]
  },
  {
   "cell_type": "code",
   "execution_count": 234,
   "id": "1ae51426",
   "metadata": {
    "ExecuteTime": {
     "end_time": "2022-05-25T00:57:49.196299Z",
     "start_time": "2022-05-25T00:57:48.965581Z"
    }
   },
   "outputs": [
    {
     "data": {
      "image/png": "[encoded data removed]",
      "text/plain": [
       "<Figure size 432x288 with 1 Axes>"
      ]
     },
     "metadata": {
      "needs_background": "light"
     },
     "output_type": "display_data"
    }
   ],
   "source": [
    "plt.plot(df['Q'],'o-')\n",
    "\n",
    "x1=ind.tolist()\n",
    "y1=[0 for i in range(len(ind))]\n",
    "plt.plot(x1,y1,label='Q=0',linestyle='--')\n",
    "\n",
    "x2=[ind[-1] for i in range(len(ind))]\n",
    "y2=df['Q']\n",
    "plt.plot(x2,y2,'--')\n",
    "\n",
    "x3=ind[-1]\n",
    "y3=df['Q'].iloc[-1]\n",
    "plt.plot(x3,y3,'o')\n",
    "\n",
    "plt.title(\"Temperature vs Q\", fontdict={'fontname': 'Comic Sans MS', 'fontsize': 18})\n",
    "plt.xlabel('Temperature')\n",
    "plt.ylabel('Q')\n",
    "plt.legend()\n",
    "\n",
    "#plt.savefig(\"random.jpg\")"
   ]
  },
  {
   "cell_type": "code",
   "execution_count": 279,
   "id": "1c579422",
   "metadata": {
    "ExecuteTime": {
     "end_time": "2022-05-25T02:02:56.738130Z",
     "start_time": "2022-05-25T02:02:56.308313Z"
    }
   },
   "outputs": [
    {
     "data": {
      "image/png": "[encoded data removed]",
      "text/plain": [
       "<Figure size 432x288 with 1 Axes>"
      ]
     },
     "metadata": {
      "needs_background": "light"
     },
     "output_type": "display_data"
    }
   ],
   "source": [
    "#plotting all products (except N2) on the same graph\n",
    "for i in df.columns[:-2]:\n",
    "    \n",
    "    plt.plot(df[i],'o-',label=i)\n",
    "    \n",
    "    x3=ind[-1]\n",
    "    y3=df[i].iloc[-1]\n",
    "    plt.plot(x3,y3,'o')\n",
    "    \n",
    "    #plt.xticks([ind[-1]])\n",
    "    #plt.yticks([df[i].iloc[-1]])\n",
    "    \n",
    "    plt.title(f'Temperature vs Products',fontdict={'fontsize': 18})\n",
    "    plt.xlabel('Temperature',fontdict={'fontsize': 12})\n",
    "\n",
    "    plt.legend(bbox_to_anchor= (0,1))\n",
    "    \n",
    "#plt.savefig(\"Products.jpg\",dpi = 350)    #to save the graphs as images\n",
    "\n",
    "    \n",
    "    "
   ]
  },
  {
   "cell_type": "code",
   "execution_count": 34,
   "id": "8130ce44",
   "metadata": {
    "ExecuteTime": {
     "end_time": "2022-05-25T16:06:07.341184Z",
     "start_time": "2022-05-25T16:06:04.964508Z"
    }
   },
   "outputs": [
    {
     "data": {
      "image/png": "[encoded data removed]",
      "text/plain": [
       "<Figure size 432x288 with 1 Axes>"
      ]
     },
     "metadata": {
      "needs_background": "light"
     },
     "output_type": "display_data"
    },
    {
     "data": {
      "image/png": "[encoded data removed]",
      "text/plain": [
       "<Figure size 432x288 with 1 Axes>"
      ]
     },
     "metadata": {
      "needs_background": "light"
     },
     "output_type": "display_data"
    },
    {
     "data": {
      "image/png": "[encoded data removed]",
      "text/plain": [
       "<Figure size 432x288 with 1 Axes>"
      ]
     },
     "metadata": {
      "needs_background": "light"
     },
     "output_type": "display_data"
    },
    {
     "data": {
      "image/png": "[encoded data removed]",
      "text/plain": [
       "<Figure size 432x288 with 1 Axes>"
      ]
     },
     "metadata": {
      "needs_background": "light"
     },
     "output_type": "display_data"
    },
    {
     "data": {
      "image/png": "[encoded data removed]",
      "text/plain": [
       "<Figure size 432x288 with 1 Axes>"
      ]
     },
     "metadata": {
      "needs_background": "light"
     },
     "output_type": "display_data"
    },
    {
     "data": {
      "image/png": "[encoded data removed]",
      "text/plain": [
       "<Figure size 432x288 with 1 Axes>"
      ]
     },
     "metadata": {
      "needs_background": "light"
     },
     "output_type": "display_data"
    }
   ],
   "source": [
    "#plotting each products (except N2) on a separate graph\n",
    "for i in df.columns:\n",
    "    if i=='N2':\n",
    "        continue\n",
    "    \n",
    "    plt.plot(df[i],'o-')\n",
    "    \n",
    "    x1=ind.tolist()\n",
    "    y1=[df[i].iloc[-1] for j in range(len(ind))]\n",
    "    plt.plot(x1,y1,label=f'{i}={df[i].iloc[-1]:.5f}',linestyle='--')\n",
    "\n",
    "    x2=[ind[-1] for i in range(len(ind))]\n",
    "    y2=df[i]\n",
    "    plt.plot(x2,y2,'--',label=f'T={ind[-1]}')\n",
    "\n",
    "    x3=ind[-1]\n",
    "    y3=df[i].iloc[-1]\n",
    "    plt.plot(x3,y3,'o')\n",
    "    \n",
    "    #plt.xticks([ind[-1]])\n",
    "    #plt.yticks([df[i].iloc[-1]])\n",
    "    \n",
    "    plt.title(f'Temperature vs {i}',fontdict={'fontsize': 18})\n",
    "    plt.xlabel('Temperature',fontdict={'fontsize': 12})\n",
    "    plt.ylabel(i,fontdict={'fontsize': 12})\n",
    "    \n",
    "    plt.legend()\n",
    "    \n",
    "    #plt.savefig(f\"{i}.jpg\",dpi = 200)    #to save the graphs as images\n",
    "    plt.show()\n",
    "\n",
    "    \n",
    "    "
   ]
  },
  {
   "cell_type": "code",
   "execution_count": null,
   "id": "908d996d",
   "metadata": {},
   "outputs": [],
   "source": []
  }
 ],
 "metadata": {
  "kernelspec": {
   "display_name": "Python 3 (ipykernel)",
   "language": "python",
   "name": "python3"
  },
  "language_info": {
   "codemirror_mode": {
    "name": "ipython",
    "version": 3
   },
   "file_extension": ".py",
   "mimetype": "text/x-python",
   "name": "python",
   "nbconvert_exporter": "python",
   "pygments_lexer": "ipython3",
   "version": "3.9.6"
  }
 },
 "nbformat": 4,
 "nbformat_minor": 5
}
